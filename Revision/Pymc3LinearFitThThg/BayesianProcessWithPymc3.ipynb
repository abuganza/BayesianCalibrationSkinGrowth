{
  "nbformat": 4,
  "nbformat_minor": 0,
  "metadata": {
    "colab": {
      "name": "BayesianProcessWithPymc3.ipynb",
      "provenance": [],
      "collapsed_sections": []
    },
    "kernelspec": {
      "name": "python3",
      "display_name": "Python 3"
    }
  },
  "cells": [
    {
      "cell_type": "code",
      "metadata": {
        "id": "TSwwks8VY53q"
      },
      "source": [
        "import numpy as np\n",
        "#from autograd import numpy as anp, elementwise_grad as egrad\n",
        "import theano as th\n",
        "from theano import shared, function, tensor as tt\n",
        "import pymc3 as pm\n",
        "\n",
        "import math\n",
        "import scipy.stats as st\n",
        "import scipy\n",
        "\n",
        "import pandas as pd\n",
        "import io\n",
        "import requests\n",
        "\n",
        "import matplotlib as mpl\n",
        "import matplotlib.pyplot as plt\n",
        "import seaborn as sns\n",
        "sns.set()\n",
        "%matplotlib inline\n",
        "import sys"
      ],
      "execution_count": 1,
      "outputs": []
    },
    {
      "cell_type": "code",
      "metadata": {
        "id": "EHecK9ng3dV9"
      },
      "source": [
        "\n",
        "!pip install arviz==0.6.1\n",
        "!pip install pymc3==3.8\n",
        "!pip install Theano==1.0.4\n"
      ],
      "execution_count": null,
      "outputs": []
    },
    {
      "cell_type": "code",
      "metadata": {
        "id": "LaxMG5RzYiYE",
        "colab": {
          "resources": {
            "http://localhost:8080/nbextensions/google.colab/files.js": {
              "data": "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",
              "ok": true,
              "headers": [
                [
                  "content-type",
                  "application/javascript"
                ]
              ],
              "status": 200,
              "status_text": ""
            }
          },
          "base_uri": "https://localhost:8080/",
          "height": 73
        },
        "outputId": "b4e03029-238b-41ac-f144-5489f42b47ac"
      },
      "source": [
        "from google.colab import files\n",
        "data_to_load = files.upload()\n",
        "df = pd.read_csv(io.BytesIO(data_to_load['Iso_data_4_pigs.csv']), index_col=0, header=None)"
      ],
      "execution_count": 3,
      "outputs": [
        {
          "output_type": "display_data",
          "data": {
            "text/html": [
              "\n",
              "     <input type=\"file\" id=\"files-e90771e4-e005-4162-a236-50cf702addbf\" name=\"files[]\" multiple disabled\n",
              "        style=\"border:none\" />\n",
              "     <output id=\"result-e90771e4-e005-4162-a236-50cf702addbf\">\n",
              "      Upload widget is only available when the cell has been executed in the\n",
              "      current browser session. Please rerun this cell to enable.\n",
              "      </output>\n",
              "      <script src=\"/nbextensions/google.colab/files.js\"></script> "
            ],
            "text/plain": [
              "<IPython.core.display.HTML object>"
            ]
          },
          "metadata": {
            "tags": []
          }
        },
        {
          "output_type": "stream",
          "text": [
            "Saving Iso_data_4_pigs.csv to Iso_data_4_pigs.csv\n"
          ],
          "name": "stdout"
        }
      ]
    },
    {
      "cell_type": "code",
      "metadata": {
        "id": "7lShSVwAYmJg"
      },
      "source": [
        "Y = df.values\n",
        "data = Y[:, :].flatten()\n"
      ],
      "execution_count": 4,
      "outputs": []
    },
    {
      "cell_type": "code",
      "metadata": {
        "id": "QTILEmSPbS6Q",
        "colab": {
          "base_uri": "https://localhost:8080/",
          "height": 251
        },
        "outputId": "25a4e108-8ac7-4988-b186-3012260757f5"
      },
      "source": [
        "df"
      ],
      "execution_count": 5,
      "outputs": [
        {
          "output_type": "execute_result",
          "data": {
            "text/html": [
              "<div>\n",
              "<style scoped>\n",
              "    .dataframe tbody tr th:only-of-type {\n",
              "        vertical-align: middle;\n",
              "    }\n",
              "\n",
              "    .dataframe tbody tr th {\n",
              "        vertical-align: top;\n",
              "    }\n",
              "\n",
              "    .dataframe thead th {\n",
              "        text-align: right;\n",
              "    }\n",
              "</style>\n",
              "<table border=\"1\" class=\"dataframe\">\n",
              "  <thead>\n",
              "    <tr style=\"text-align: right;\">\n",
              "      <th></th>\n",
              "      <th>1</th>\n",
              "      <th>2</th>\n",
              "      <th>3</th>\n",
              "      <th>4</th>\n",
              "      <th>5</th>\n",
              "      <th>6</th>\n",
              "      <th>7</th>\n",
              "      <th>8</th>\n",
              "      <th>9</th>\n",
              "      <th>10</th>\n",
              "      <th>11</th>\n",
              "      <th>12</th>\n",
              "      <th>13</th>\n",
              "      <th>14</th>\n",
              "      <th>15</th>\n",
              "      <th>16</th>\n",
              "      <th>17</th>\n",
              "      <th>18</th>\n",
              "      <th>19</th>\n",
              "      <th>20</th>\n",
              "      <th>21</th>\n",
              "      <th>22</th>\n",
              "      <th>23</th>\n",
              "      <th>24</th>\n",
              "      <th>25</th>\n",
              "      <th>26</th>\n",
              "      <th>27</th>\n",
              "      <th>28</th>\n",
              "      <th>29</th>\n",
              "      <th>30</th>\n",
              "      <th>31</th>\n",
              "      <th>32</th>\n",
              "      <th>33</th>\n",
              "      <th>34</th>\n",
              "      <th>35</th>\n",
              "      <th>36</th>\n",
              "      <th>37</th>\n",
              "      <th>38</th>\n",
              "      <th>39</th>\n",
              "      <th>40</th>\n",
              "      <th>...</th>\n",
              "      <th>461</th>\n",
              "      <th>462</th>\n",
              "      <th>463</th>\n",
              "      <th>464</th>\n",
              "      <th>465</th>\n",
              "      <th>466</th>\n",
              "      <th>467</th>\n",
              "      <th>468</th>\n",
              "      <th>469</th>\n",
              "      <th>470</th>\n",
              "      <th>471</th>\n",
              "      <th>472</th>\n",
              "      <th>473</th>\n",
              "      <th>474</th>\n",
              "      <th>475</th>\n",
              "      <th>476</th>\n",
              "      <th>477</th>\n",
              "      <th>478</th>\n",
              "      <th>479</th>\n",
              "      <th>480</th>\n",
              "      <th>481</th>\n",
              "      <th>482</th>\n",
              "      <th>483</th>\n",
              "      <th>484</th>\n",
              "      <th>485</th>\n",
              "      <th>486</th>\n",
              "      <th>487</th>\n",
              "      <th>488</th>\n",
              "      <th>489</th>\n",
              "      <th>490</th>\n",
              "      <th>491</th>\n",
              "      <th>492</th>\n",
              "      <th>493</th>\n",
              "      <th>494</th>\n",
              "      <th>495</th>\n",
              "      <th>496</th>\n",
              "      <th>497</th>\n",
              "      <th>498</th>\n",
              "      <th>499</th>\n",
              "      <th>500</th>\n",
              "    </tr>\n",
              "    <tr>\n",
              "      <th>0</th>\n",
              "      <th></th>\n",
              "      <th></th>\n",
              "      <th></th>\n",
              "      <th></th>\n",
              "      <th></th>\n",
              "      <th></th>\n",
              "      <th></th>\n",
              "      <th></th>\n",
              "      <th></th>\n",
              "      <th></th>\n",
              "      <th></th>\n",
              "      <th></th>\n",
              "      <th></th>\n",
              "      <th></th>\n",
              "      <th></th>\n",
              "      <th></th>\n",
              "      <th></th>\n",
              "      <th></th>\n",
              "      <th></th>\n",
              "      <th></th>\n",
              "      <th></th>\n",
              "      <th></th>\n",
              "      <th></th>\n",
              "      <th></th>\n",
              "      <th></th>\n",
              "      <th></th>\n",
              "      <th></th>\n",
              "      <th></th>\n",
              "      <th></th>\n",
              "      <th></th>\n",
              "      <th></th>\n",
              "      <th></th>\n",
              "      <th></th>\n",
              "      <th></th>\n",
              "      <th></th>\n",
              "      <th></th>\n",
              "      <th></th>\n",
              "      <th></th>\n",
              "      <th></th>\n",
              "      <th></th>\n",
              "      <th></th>\n",
              "      <th></th>\n",
              "      <th></th>\n",
              "      <th></th>\n",
              "      <th></th>\n",
              "      <th></th>\n",
              "      <th></th>\n",
              "      <th></th>\n",
              "      <th></th>\n",
              "      <th></th>\n",
              "      <th></th>\n",
              "      <th></th>\n",
              "      <th></th>\n",
              "      <th></th>\n",
              "      <th></th>\n",
              "      <th></th>\n",
              "      <th></th>\n",
              "      <th></th>\n",
              "      <th></th>\n",
              "      <th></th>\n",
              "      <th></th>\n",
              "      <th></th>\n",
              "      <th></th>\n",
              "      <th></th>\n",
              "      <th></th>\n",
              "      <th></th>\n",
              "      <th></th>\n",
              "      <th></th>\n",
              "      <th></th>\n",
              "      <th></th>\n",
              "      <th></th>\n",
              "      <th></th>\n",
              "      <th></th>\n",
              "      <th></th>\n",
              "      <th></th>\n",
              "      <th></th>\n",
              "      <th></th>\n",
              "      <th></th>\n",
              "      <th></th>\n",
              "      <th></th>\n",
              "      <th></th>\n",
              "    </tr>\n",
              "  </thead>\n",
              "  <tbody>\n",
              "    <tr>\n",
              "      <th>theta</th>\n",
              "      <td>0.965888</td>\n",
              "      <td>1.088688</td>\n",
              "      <td>1.000512</td>\n",
              "      <td>0.965744</td>\n",
              "      <td>1.033744</td>\n",
              "      <td>1.049744</td>\n",
              "      <td>0.937568</td>\n",
              "      <td>1.008912</td>\n",
              "      <td>1.094560</td>\n",
              "      <td>1.057888</td>\n",
              "      <td>0.920992</td>\n",
              "      <td>1.033536</td>\n",
              "      <td>1.145456</td>\n",
              "      <td>1.140736</td>\n",
              "      <td>1.035488</td>\n",
              "      <td>1.104832</td>\n",
              "      <td>1.165344</td>\n",
              "      <td>1.140960</td>\n",
              "      <td>1.085328</td>\n",
              "      <td>0.834000</td>\n",
              "      <td>1.010144</td>\n",
              "      <td>0.936624</td>\n",
              "      <td>1.067552</td>\n",
              "      <td>1.094832</td>\n",
              "      <td>0.959552</td>\n",
              "      <td>1.057760</td>\n",
              "      <td>1.115152</td>\n",
              "      <td>1.186512</td>\n",
              "      <td>1.258704</td>\n",
              "      <td>0.937632</td>\n",
              "      <td>1.085008</td>\n",
              "      <td>0.945136</td>\n",
              "      <td>1.033472</td>\n",
              "      <td>1.094464</td>\n",
              "      <td>0.981952</td>\n",
              "      <td>0.977136</td>\n",
              "      <td>1.130208</td>\n",
              "      <td>1.232256</td>\n",
              "      <td>1.264080</td>\n",
              "      <td>1.291200</td>\n",
              "      <td>...</td>\n",
              "      <td>1.353856</td>\n",
              "      <td>1.187200</td>\n",
              "      <td>1.205984</td>\n",
              "      <td>1.156672</td>\n",
              "      <td>0.990432</td>\n",
              "      <td>0.943936</td>\n",
              "      <td>1.015280</td>\n",
              "      <td>0.945792</td>\n",
              "      <td>0.858368</td>\n",
              "      <td>0.794320</td>\n",
              "      <td>1.166176</td>\n",
              "      <td>1.214240</td>\n",
              "      <td>1.311392</td>\n",
              "      <td>1.236912</td>\n",
              "      <td>1.101184</td>\n",
              "      <td>1.064448</td>\n",
              "      <td>0.948368</td>\n",
              "      <td>1.075808</td>\n",
              "      <td>1.060912</td>\n",
              "      <td>0.892896</td>\n",
              "      <td>1.422944</td>\n",
              "      <td>1.320576</td>\n",
              "      <td>1.285936</td>\n",
              "      <td>1.159296</td>\n",
              "      <td>1.167520</td>\n",
              "      <td>1.186720</td>\n",
              "      <td>1.078272</td>\n",
              "      <td>1.303872</td>\n",
              "      <td>1.198464</td>\n",
              "      <td>1.179968</td>\n",
              "      <td>1.245472</td>\n",
              "      <td>1.212992</td>\n",
              "      <td>1.361488</td>\n",
              "      <td>1.143856</td>\n",
              "      <td>1.120208</td>\n",
              "      <td>1.259664</td>\n",
              "      <td>1.260352</td>\n",
              "      <td>1.206160</td>\n",
              "      <td>1.267856</td>\n",
              "      <td>1.293120</td>\n",
              "    </tr>\n",
              "    <tr>\n",
              "      <th>theta_g</th>\n",
              "      <td>0.933448</td>\n",
              "      <td>1.032806</td>\n",
              "      <td>1.058790</td>\n",
              "      <td>0.977210</td>\n",
              "      <td>0.975809</td>\n",
              "      <td>1.055253</td>\n",
              "      <td>1.174705</td>\n",
              "      <td>1.224251</td>\n",
              "      <td>1.022238</td>\n",
              "      <td>1.074758</td>\n",
              "      <td>0.919683</td>\n",
              "      <td>1.000707</td>\n",
              "      <td>0.978304</td>\n",
              "      <td>1.111315</td>\n",
              "      <td>1.152684</td>\n",
              "      <td>1.098264</td>\n",
              "      <td>1.147320</td>\n",
              "      <td>1.080042</td>\n",
              "      <td>1.084738</td>\n",
              "      <td>1.458146</td>\n",
              "      <td>0.939252</td>\n",
              "      <td>0.955356</td>\n",
              "      <td>0.939533</td>\n",
              "      <td>0.993932</td>\n",
              "      <td>1.123031</td>\n",
              "      <td>1.121409</td>\n",
              "      <td>0.983188</td>\n",
              "      <td>0.965619</td>\n",
              "      <td>1.244675</td>\n",
              "      <td>1.546136</td>\n",
              "      <td>0.894105</td>\n",
              "      <td>0.971594</td>\n",
              "      <td>1.008948</td>\n",
              "      <td>0.963047</td>\n",
              "      <td>0.960064</td>\n",
              "      <td>0.871415</td>\n",
              "      <td>0.856923</td>\n",
              "      <td>0.903354</td>\n",
              "      <td>0.999807</td>\n",
              "      <td>1.161977</td>\n",
              "      <td>...</td>\n",
              "      <td>1.200035</td>\n",
              "      <td>1.192621</td>\n",
              "      <td>1.486624</td>\n",
              "      <td>1.284190</td>\n",
              "      <td>1.110482</td>\n",
              "      <td>1.150098</td>\n",
              "      <td>1.390292</td>\n",
              "      <td>1.436250</td>\n",
              "      <td>1.131304</td>\n",
              "      <td>0.611056</td>\n",
              "      <td>1.152622</td>\n",
              "      <td>1.411549</td>\n",
              "      <td>1.362125</td>\n",
              "      <td>1.337657</td>\n",
              "      <td>1.408390</td>\n",
              "      <td>1.330956</td>\n",
              "      <td>1.277285</td>\n",
              "      <td>1.141033</td>\n",
              "      <td>1.129999</td>\n",
              "      <td>1.129332</td>\n",
              "      <td>1.300154</td>\n",
              "      <td>1.439867</td>\n",
              "      <td>1.496381</td>\n",
              "      <td>1.095801</td>\n",
              "      <td>1.223408</td>\n",
              "      <td>1.369375</td>\n",
              "      <td>1.254777</td>\n",
              "      <td>1.204163</td>\n",
              "      <td>1.064587</td>\n",
              "      <td>1.058036</td>\n",
              "      <td>1.096279</td>\n",
              "      <td>1.620986</td>\n",
              "      <td>1.420073</td>\n",
              "      <td>1.434664</td>\n",
              "      <td>1.002634</td>\n",
              "      <td>1.346266</td>\n",
              "      <td>1.723698</td>\n",
              "      <td>1.167892</td>\n",
              "      <td>1.136519</td>\n",
              "      <td>1.188447</td>\n",
              "    </tr>\n",
              "    <tr>\n",
              "      <th>theta_p</th>\n",
              "      <td>1.198216</td>\n",
              "      <td>1.198216</td>\n",
              "      <td>1.198216</td>\n",
              "      <td>1.198216</td>\n",
              "      <td>1.198216</td>\n",
              "      <td>1.198216</td>\n",
              "      <td>1.198216</td>\n",
              "      <td>1.198216</td>\n",
              "      <td>1.198216</td>\n",
              "      <td>1.198216</td>\n",
              "      <td>1.198216</td>\n",
              "      <td>1.198216</td>\n",
              "      <td>1.198216</td>\n",
              "      <td>1.198216</td>\n",
              "      <td>1.198216</td>\n",
              "      <td>1.198216</td>\n",
              "      <td>1.198216</td>\n",
              "      <td>1.198216</td>\n",
              "      <td>1.198216</td>\n",
              "      <td>1.198216</td>\n",
              "      <td>1.198216</td>\n",
              "      <td>1.198216</td>\n",
              "      <td>1.198216</td>\n",
              "      <td>1.198216</td>\n",
              "      <td>1.198216</td>\n",
              "      <td>1.198216</td>\n",
              "      <td>1.198216</td>\n",
              "      <td>1.198216</td>\n",
              "      <td>1.198216</td>\n",
              "      <td>1.198216</td>\n",
              "      <td>1.198216</td>\n",
              "      <td>1.198216</td>\n",
              "      <td>1.198216</td>\n",
              "      <td>1.198216</td>\n",
              "      <td>1.198216</td>\n",
              "      <td>1.198216</td>\n",
              "      <td>1.198216</td>\n",
              "      <td>1.198216</td>\n",
              "      <td>1.198216</td>\n",
              "      <td>1.198216</td>\n",
              "      <td>...</td>\n",
              "      <td>1.198216</td>\n",
              "      <td>1.198216</td>\n",
              "      <td>1.198216</td>\n",
              "      <td>1.198216</td>\n",
              "      <td>1.198216</td>\n",
              "      <td>1.198216</td>\n",
              "      <td>1.198216</td>\n",
              "      <td>1.198216</td>\n",
              "      <td>1.198216</td>\n",
              "      <td>1.198216</td>\n",
              "      <td>1.198216</td>\n",
              "      <td>1.198216</td>\n",
              "      <td>1.198216</td>\n",
              "      <td>1.198216</td>\n",
              "      <td>1.198216</td>\n",
              "      <td>1.198216</td>\n",
              "      <td>1.198216</td>\n",
              "      <td>1.198216</td>\n",
              "      <td>1.198216</td>\n",
              "      <td>1.198216</td>\n",
              "      <td>1.198216</td>\n",
              "      <td>1.198216</td>\n",
              "      <td>1.198216</td>\n",
              "      <td>1.198216</td>\n",
              "      <td>1.198216</td>\n",
              "      <td>1.198216</td>\n",
              "      <td>1.198216</td>\n",
              "      <td>1.198216</td>\n",
              "      <td>1.198216</td>\n",
              "      <td>1.198216</td>\n",
              "      <td>1.198216</td>\n",
              "      <td>1.198216</td>\n",
              "      <td>1.198216</td>\n",
              "      <td>1.198216</td>\n",
              "      <td>1.198216</td>\n",
              "      <td>1.198216</td>\n",
              "      <td>1.198216</td>\n",
              "      <td>1.198216</td>\n",
              "      <td>1.198216</td>\n",
              "      <td>1.198216</td>\n",
              "    </tr>\n",
              "    <tr>\n",
              "      <th>time</th>\n",
              "      <td>24.000000</td>\n",
              "      <td>24.000000</td>\n",
              "      <td>24.000000</td>\n",
              "      <td>24.000000</td>\n",
              "      <td>24.000000</td>\n",
              "      <td>24.000000</td>\n",
              "      <td>24.000000</td>\n",
              "      <td>24.000000</td>\n",
              "      <td>24.000000</td>\n",
              "      <td>24.000000</td>\n",
              "      <td>24.000000</td>\n",
              "      <td>24.000000</td>\n",
              "      <td>24.000000</td>\n",
              "      <td>24.000000</td>\n",
              "      <td>24.000000</td>\n",
              "      <td>24.000000</td>\n",
              "      <td>24.000000</td>\n",
              "      <td>24.000000</td>\n",
              "      <td>24.000000</td>\n",
              "      <td>24.000000</td>\n",
              "      <td>24.000000</td>\n",
              "      <td>24.000000</td>\n",
              "      <td>24.000000</td>\n",
              "      <td>24.000000</td>\n",
              "      <td>24.000000</td>\n",
              "      <td>24.000000</td>\n",
              "      <td>24.000000</td>\n",
              "      <td>24.000000</td>\n",
              "      <td>24.000000</td>\n",
              "      <td>24.000000</td>\n",
              "      <td>24.000000</td>\n",
              "      <td>24.000000</td>\n",
              "      <td>24.000000</td>\n",
              "      <td>24.000000</td>\n",
              "      <td>24.000000</td>\n",
              "      <td>24.000000</td>\n",
              "      <td>24.000000</td>\n",
              "      <td>24.000000</td>\n",
              "      <td>24.000000</td>\n",
              "      <td>24.000000</td>\n",
              "      <td>...</td>\n",
              "      <td>168.000000</td>\n",
              "      <td>168.000000</td>\n",
              "      <td>168.000000</td>\n",
              "      <td>168.000000</td>\n",
              "      <td>168.000000</td>\n",
              "      <td>168.000000</td>\n",
              "      <td>168.000000</td>\n",
              "      <td>168.000000</td>\n",
              "      <td>168.000000</td>\n",
              "      <td>168.000000</td>\n",
              "      <td>168.000000</td>\n",
              "      <td>168.000000</td>\n",
              "      <td>168.000000</td>\n",
              "      <td>168.000000</td>\n",
              "      <td>168.000000</td>\n",
              "      <td>168.000000</td>\n",
              "      <td>168.000000</td>\n",
              "      <td>168.000000</td>\n",
              "      <td>168.000000</td>\n",
              "      <td>168.000000</td>\n",
              "      <td>168.000000</td>\n",
              "      <td>168.000000</td>\n",
              "      <td>168.000000</td>\n",
              "      <td>168.000000</td>\n",
              "      <td>168.000000</td>\n",
              "      <td>168.000000</td>\n",
              "      <td>168.000000</td>\n",
              "      <td>168.000000</td>\n",
              "      <td>168.000000</td>\n",
              "      <td>168.000000</td>\n",
              "      <td>168.000000</td>\n",
              "      <td>168.000000</td>\n",
              "      <td>168.000000</td>\n",
              "      <td>168.000000</td>\n",
              "      <td>168.000000</td>\n",
              "      <td>168.000000</td>\n",
              "      <td>168.000000</td>\n",
              "      <td>168.000000</td>\n",
              "      <td>168.000000</td>\n",
              "      <td>168.000000</td>\n",
              "    </tr>\n",
              "  </tbody>\n",
              "</table>\n",
              "<p>4 rows × 500 columns</p>\n",
              "</div>"
            ],
            "text/plain": [
              "               1          2          3    ...         498         499         500\n",
              "0                                         ...                                    \n",
              "theta     0.965888   1.088688   1.000512  ...    1.206160    1.267856    1.293120\n",
              "theta_g   0.933448   1.032806   1.058790  ...    1.167892    1.136519    1.188447\n",
              "theta_p   1.198216   1.198216   1.198216  ...    1.198216    1.198216    1.198216\n",
              "time     24.000000  24.000000  24.000000  ...  168.000000  168.000000  168.000000\n",
              "\n",
              "[4 rows x 500 columns]"
            ]
          },
          "metadata": {
            "tags": []
          },
          "execution_count": 5
        }
      ]
    },
    {
      "cell_type": "code",
      "metadata": {
        "id": "W1jcB182LvvX"
      },
      "source": [
        "\"\"\"\n",
        "th_data=data[0:500]\n",
        "th_g_data=data[500:1000]\n",
        "th_p_data=data[1000:1500]\n",
        "time_data=data[1500:2000]\n",
        "\"\"\"\n",
        "\n",
        "\"Currently Only Run through first 5 data points\"\n",
        "th_data=data[0:5];\n",
        "th_g_data=data[500:505];\n",
        "th_p_data=data[1000:1005];\n",
        "time_data=data[1500:1505];\n"
      ],
      "execution_count": 6,
      "outputs": []
    },
    {
      "cell_type": "code",
      "metadata": {
        "id": "bSEk-90iYyzE"
      },
      "source": [
        "def Solver(k):\n",
        "  num_pts=np.size(th_data)\n",
        "  k = tt.exp(k) / 25\n",
        "  n=np.size(th_data);\n",
        "  dt=0.1;\n",
        "  predict=tt.zeros(num_pts)\n",
        "  for counter in range(0, num_pts):\n",
        "    temp_th=th_data[counter]\n",
        "    temp_th_p=th_p_data[counter]\n",
        "    temp_time=time_data[counter]\n",
        "    th_g_pred=1;\n",
        "    th_g_pred_s=shared(th_g_pred)\n",
        "\n",
        "    for t_step in np.arange(0.,temp_time,dt):\n",
        "      th_g_dot=k*(temp_th*temp_th_p/th_g_pred-temp_th_p)\n",
        "      th_g_pred_s=th_g_pred_s+th_g_dot*dt;\n",
        "      \n",
        "\n",
        "#    print('k',k.eval())\n",
        "#   print('dt',dt)\n",
        "#   print('th',temp_th)\n",
        "#    print('th_g_dot',th_g_dot.eval())\n",
        "#    print('th_g',th_g_pred_s.eval())\n",
        "    predict=tt.set_subtensor(predict[counter:counter+1], th_g_pred_s)\n",
        "\n",
        "  return predict\n"
      ],
      "execution_count": 7,
      "outputs": []
    },
    {
      "cell_type": "markdown",
      "metadata": {
        "id": "V8vmQ2Ss_Z9M"
      },
      "source": [
        "## Model 1\n",
        "Error with Normal distrubution"
      ]
    },
    {
      "cell_type": "code",
      "metadata": {
        "id": "JyjhPuqherQe",
        "colab": {
          "base_uri": "https://localhost:8080/",
          "height": 124
        },
        "outputId": "1e456b85-3ea0-4c5f-d533-b4cda349a581"
      },
      "source": [
        "model_A = pm.Model()\n",
        "gamma2 = 100\n",
        "sigma2 = 0.15\n",
        "# define the distribution \n",
        "with model_A:\n",
        "    x = pm.Normal(name='x',mu =0,sigma=tt.sqrt(gamma2),shape=1)\n",
        "    y_mean = pm.Deterministic('y_mean', Solver(x))\n",
        "    y = pm.Normal(name='y',mu=y_mean,sigma=tt.sqrt(sigma2),observed=th_g_data)\n",
        "\n",
        "model_A\n"
      ],
      "execution_count": 8,
      "outputs": [
        {
          "output_type": "execute_result",
          "data": {
            "text/latex": "$$\n            \\begin{array}{rcl}\n            \\text{x} &\\sim & \\text{Normal}(\\mathit{mu}=0.0,~\\mathit{sigma}=f(f(f())))\\\\\\text{y_mean} &\\sim & \\text{Deterministic}(\\text{Constant},~\\text{Constant},~\\text{Constant},~\\text{x},~\\text{Constant},~\\text{Constant},~\\text{Constant},~\\text{x},~\\text{Constant},~\\text{Constant},~\\text{Constant},~\\text{x},~\\text{Constant},~\\text{Constant},~\\text{Constant},~\\text{x},~\\text{Constant},~\\text{Constant},~\\text{Constant},~\\text{x},~\\text{Constant},~\\text{Constant},~\\text{Constant},~\\text{x},~\\text{Constant},~\\text{Constant},~\\text{Constant},~\\text{x},~\\text{Constant},~\\text{Constant},~\\text{Constant},~\\text{x},~\\text{Constant},~\\text{Constant},~\\text{Constant},~\\text{x},~\\text{Constant},~\\text{Constant},~\\text{Constant},~\\text{x},~\\text{Constant},~\\text{Constant},~\\text{Constant},~\\text{x},~\\text{Constant},~\\text{Constant},~\\text{Constant},~\\text{x},~\\text{Constant},~\\text{Constant},~\\text{Constant},~\\text{x},~\\text{Constant},~\\text{Constant},~\\text{Constant},~\\text{x},~\\text{Constant},~\\text{Constant},~\\text{Constant},~\\text{x},~\\text{Constant},~\\text{Constant},~\\text{Constant},~\\text{x},~\\text{Constant},~\\text{Constant},~\\text{Constant},~\\text{x},~\\text{Constant},~\\text{Constant},~\\text{Constant},~\\text{x},~\\text{Constant},~\\text{Constant},~\\text{Constant},~\\text{x},~\\text{Constant},~\\text{Constant},~\\text{Constant},~\\text{x},~\\text{Constant},~\\text{Constant},~\\text{Constant},~\\text{x},~\\text{Constant},~\\text{Constant},~\\text{Constant},~\\text{x},~\\text{Constant},~\\text{Constant},~\\text{Constant},~\\text{x},~\\text{Constant},~\\text{Constant},~\\text{Constant},~\\text{x},~\\text{Constant},~\\text{Constant},~\\text{Constant},~\\text{x},~\\text{Constant},~\\text{Constant},~\\text{Constant},~\\text{x},~\\text{Constant},~\\text{Constant},~\\text{Constant},~\\text{x},~\\text{Constant},~\\text{Constant},~\\text{Constant},~\\text{x},~\\text{Constant},~\\text{Constant},~\\text{Constant},~\\text{x},~\\text{Constant},~\\text{Constant},~\\text{Constant},~\\text{x},~\\text{Constant},~\\text{Constant},~\\text{Constant},~\\text{x},~\\text{Constant},~\\text{Constant},~\\text{Constant},~\\text{x},~\\text{Constant},~\\text{Constant},~\\text{Constant},~\\text{x},~\\text{Constant},~\\text{Constant},~\\text{Constant},~\\text{x},~\\text{Constant},~\\text{Constant},~\\text{Constant},~\\text{x},~\\text{Constant},~\\text{Constant},~\\text{Constant},~\\text{x},~\\text{Constant},~\\text{Constant},~\\text{Constant},~\\text{x},~\\text{Constant},~\\text{Constant},~\\text{Constant},~\\text{x},~\\text{Constant},~\\text{Constant},~\\text{Constant},~\\text{x},~\\text{Constant},~\\text{Constant},~\\text{Constant},~\\text{x},~\\text{Constant},~\\text{Constant},~\\text{Constant},~\\text{x},~\\text{Constant},~\\text{Constant},~\\text{Constant},~\\text{x},~\\text{Constant},~\\text{Constant},~\\text{Constant},~\\text{x},~\\text{Constant},~\\text{Constant},~\\text{Constant},~\\text{x},~\\text{Constant},~\\text{Constant},~\\text{Constant},~\\text{x},~\\text{Constant},~\\text{Constant},~\\text{Constant},~\\text{x},~\\text{Constant},~\\text{Constant},~\\text{Constant},~\\text{x},~\\text{Constant},~\\text{Constant},~\\text{Constant},~\\text{x},~\\text{Constant},~\\text{Constant},~\\text{Constant},~\\text{x},~\\text{Constant},~\\text{Constant},~\\text{Constant},~\\text{x},~\\text{Constant},~\\text{Constant},~\\text{Constant},~\\text{x},~\\text{Constant},~\\text{Constant},~\\text{Constant},~\\text{x},~\\text{Constant},~\\text{Constant},~\\text{Constant},~\\text{x},~\\text{Constant},~\\text{Constant},~\\text{Constant},~\\text{x},~\\text{Constant},~\\text{Constant},~\\text{Constant},~\\text{x},~\\text{Constant},~\\text{Constant},~\\text{Constant},~\\text{x},~\\text{Constant},~\\text{Constant},~\\text{Constant},~\\text{x},~\\text{Constant},~\\text{Constant},~\\text{Constant},~\\text{x},~\\text{Constant},~\\text{Constant},~\\text{Constant},~\\text{x},~\\text{Constant},~\\text{Constant},~\\text{Constant},~\\text{x},~\\text{Constant},~\\text{Constant},~\\text{Constant},~\\text{x},~\\text{Constant},~\\text{Constant},~\\text{Constant},~\\text{x},~\\text{Constant},~\\text{Constant},~\\text{Constant},~\\text{x},~\\text{Constant},~\\text{Constant},~\\text{Constant},~\\text{x},~\\text{Constant},~\\text{Constant},~\\text{Constant},~\\text{x},~\\text{Constant},~\\text{Constant},~\\text{Constant},~\\text{x},~\\text{Constant},~\\text{Constant},~\\text{Constant},~\\text{x},~\\text{Constant},~\\text{Constant},~\\text{Constant},~\\text{x},~\\text{Constant},~\\text{Constant},~\\text{Constant},~\\text{x},~\\text{Constant},~\\text{Constant},~\\text{Constant},~\\text{x},~\\text{Constant},~\\text{Constant},~\\text{Constant},~\\text{x},~\\text{Constant},~\\text{Constant},~\\text{Constant},~\\text{x},~\\text{Constant},~\\text{Constant},~\\text{Constant},~\\text{x},~\\text{Constant},~\\text{Constant},~\\text{Constant},~\\text{x},~\\text{Constant},~\\text{Constant},~\\text{Constant},~\\text{x},~\\text{Constant},~\\text{Constant},~\\text{Constant},~\\text{x},~\\text{Constant},~\\text{Constant},~\\text{Constant},~\\text{x},~\\text{Constant},~\\text{Constant},~\\text{Constant},~\\text{x},~\\text{Constant},~\\text{Constant},~\\text{Constant},~\\text{x},~\\text{Constant},~\\text{Constant},~\\text{Constant},~\\text{x},~\\text{Constant},~\\text{Constant},~\\text{Constant},~\\text{x},~\\text{Constant},~\\text{Constant},~\\text{Constant},~\\text{x},~\\text{Constant},~\\text{Constant},~\\text{Constant},~\\text{x},~\\text{Constant},~\\text{Constant},~\\text{Constant},~\\text{x},~\\text{Constant},~\\text{Constant},~\\text{Constant},~\\text{x},~\\text{Constant},~\\text{Constant},~\\text{Constant},~\\text{x},~\\text{Constant},~\\text{Constant},~\\text{Constant},~\\text{x},~\\text{Constant},~\\text{Constant},~\\text{Constant},~\\text{x},~\\text{Constant},~\\text{Constant},~\\text{Constant},~\\text{x},~\\text{Constant},~\\text{Constant},~\\text{Constant},~\\text{x},~\\text{Constant},~\\text{Constant},~\\text{Constant},~\\text{x},~\\text{Constant},~\\text{Constant},~\\text{Constant},~\\text{x},~\\text{Constant},~\\text{Constant},~\\text{Constant},~\\text{x},~\\text{Constant},~\\text{Constant},~\\text{Constant},~\\text{x},~\\text{Constant},~\\text{Constant},~\\text{Constant},~\\text{x},~\\text{Constant},~\\text{Constant},~\\text{Constant},~\\text{x},~\\text{Constant},~\\text{Constant},~\\text{Constant},~\\text{x},~\\text{Constant},~\\text{Constant},~\\text{Constant},~\\text{x},~\\text{Constant},~\\text{Constant},~\\text{Constant},~\\text{x},~\\text{Constant},~\\text{Constant},~\\text{Constant},~\\text{x},~\\text{Constant},~\\text{Constant},~\\text{Constant},~\\text{x},~\\text{Constant},~\\text{Constant},~\\text{Constant},~\\text{x},~\\text{Constant},~\\text{Constant},~\\text{Constant},~\\text{x},~\\text{Constant},~\\text{Constant},~\\text{Constant},~\\text{x},~\\text{Constant},~\\text{Constant},~\\text{Constant},~\\text{x},~\\text{Constant},~\\text{Constant},~\\text{Constant},~\\text{x},~\\text{Constant},~\\text{Constant},~\\text{Constant},~\\text{x},~\\text{Constant},~\\text{Constant},~\\text{Constant},~\\text{x},~\\text{Constant},~\\text{Constant},~\\text{Constant},~\\text{x},~\\text{Constant},~\\text{Constant},~\\text{Constant},~\\text{x},~\\text{Constant},~\\text{Constant},~\\text{Constant},~\\text{x},~\\text{Constant},~\\text{Constant},~\\text{Constant},~\\text{x},~\\text{Constant},~\\text{Constant},~\\text{Constant},~\\text{x},~\\text{Constant},~\\text{Constant},~\\text{Constant},~\\text{x},~\\text{Constant},~\\text{Constant},~\\text{Constant},~\\text{x},~\\text{Constant},~\\text{Constant},~\\text{Constant},~\\text{x},~\\text{Constant},~\\text{Constant},~\\text{Constant},~\\text{x},~\\text{Constant},~\\text{Constant},~\\text{Constant},~\\text{x},~\\text{Constant},~\\text{Constant},~\\text{Constant},~\\text{x},~\\text{Constant},~\\text{Constant},~\\text{Constant},~\\text{x},~\\text{Constant},~\\text{Constant},~\\text{Constant},~\\text{x},~\\text{Constant},~\\text{Constant},~\\text{Constant},~\\text{x},~\\text{Constant},~\\text{Constant},~\\text{Constant},~\\text{x},~\\text{Constant},~\\text{Constant},~\\text{Constant},~\\text{x},~\\text{Constant},~\\text{Constant},~\\text{Constant},~\\text{x},~\\text{Constant},~\\text{Constant},~\\text{Constant},~\\text{x},~\\text{Constant},~\\text{Constant},~\\text{Constant},~\\text{x},~\\text{Constant},~\\text{Constant},~\\text{Constant},~\\text{x},~\\text{Constant},~\\text{Constant},~\\text{Constant},~\\text{x},~\\text{Constant},~\\text{Constant},~\\text{Constant},~\\text{x},~\\text{Constant},~\\text{Constant},~\\text{Constant},~\\text{x},~\\text{Constant},~\\text{Constant},~\\text{Constant},~\\text{x},~\\text{Constant},~\\text{Constant},~\\text{Constant},~\\text{x},~\\text{Constant},~\\text{Constant},~\\text{Constant},~\\text{x},~\\text{Constant},~\\text{Constant},~\\text{Constant},~\\text{x},~\\text{Constant},~\\text{Constant},~\\text{Constant},~\\text{x},~\\text{Constant},~\\text{Constant},~\\text{Constant},~\\text{x},~\\text{Constant},~\\text{Constant},~\\text{Constant},~\\text{x},~\\text{Constant},~\\text{Constant},~\\text{Constant},~\\text{x},~\\text{Constant},~\\text{Constant},~\\text{Constant},~\\text{x},~\\text{Constant},~\\text{Constant},~\\text{Constant},~\\text{x},~\\text{Constant},~\\text{Constant},~\\text{Constant},~\\text{x},~\\text{Constant},~\\text{Constant},~\\text{Constant},~\\text{x},~\\text{Constant},~\\text{Constant},~\\text{Constant},~\\text{x},~\\text{Constant},~\\text{Constant},~\\text{Constant},~\\text{x},~\\text{Constant},~\\text{Constant},~\\text{Constant},~\\text{x},~\\text{Constant},~\\text{Constant},~\\text{Constant},~\\text{x},~\\text{Constant},~\\text{Constant},~\\text{Constant},~\\text{x},~\\text{Constant},~\\text{Constant},~\\text{Constant},~\\text{x},~\\text{Constant},~\\text{Constant},~\\text{Constant},~\\text{x},~\\text{Constant},~\\text{Constant},~\\text{Constant},~\\text{x},~\\text{Constant},~\\text{Constant},~\\text{Constant},~\\text{x},~\\text{Constant},~\\text{Constant},~\\text{Constant},~\\text{x},~\\text{Constant},~\\text{Constant},~\\text{Constant},~\\text{x},~\\text{Constant},~\\text{Constant},~\\text{Constant},~\\text{x},~\\text{Constant},~\\text{Constant},~\\text{Constant},~\\text{x},~\\text{Constant},~\\text{Constant},~\\text{Constant},~\\text{x},~\\text{Constant},~\\text{Constant},~\\text{Constant},~\\text{x},~\\text{Constant},~\\text{Constant},~\\text{Constant},~\\text{x},~\\text{Constant},~\\text{Constant},~\\text{Constant},~\\text{x},~\\text{Constant},~\\text{Constant},~\\text{Constant},~\\text{x},~\\text{Constant},~\\text{Constant},~\\text{Constant},~\\text{x},~\\text{Constant},~\\text{Constant},~\\text{Constant},~\\text{x},~\\text{Constant},~\\text{Constant},~\\text{Constant},~\\text{x},~\\text{Constant},~\\text{Constant},~\\text{Constant},~\\text{x},~\\text{Constant},~\\text{Constant},~\\text{Constant},~\\text{x},~\\text{Constant},~\\text{Constant},~\\text{Constant},~\\text{x},~\\text{Constant},~\\text{Constant},~\\text{Constant},~\\text{x},~\\text{Constant},~\\text{Constant},~\\text{Constant},~\\text{x},~\\text{Constant},~\\text{Constant},~\\text{Constant},~\\text{x},~\\text{Constant},~\\text{Constant},~\\text{Constant},~\\text{x},~\\text{Constant},~\\text{Constant},~\\text{Constant},~\\text{x},~\\text{Constant},~\\text{Constant},~\\text{Constant},~\\text{x},~\\text{Constant},~\\text{Constant},~\\text{Constant},~\\text{x},~\\text{Constant},~\\text{Constant},~\\text{Constant},~\\text{x},~\\text{Constant},~\\text{Constant},~\\text{Constant},~\\text{x},~\\text{Constant},~\\text{Constant},~\\text{Constant},~\\text{x},~\\text{Constant},~\\text{Constant},~\\text{Constant},~\\text{x},~\\text{Constant},~\\text{Constant},~\\text{Constant},~\\text{x},~\\text{Constant},~\\text{Constant},~\\text{Constant},~\\text{x},~\\text{Constant},~\\text{Constant},~\\text{Constant},~\\text{x},~\\text{Constant},~\\text{Constant},~\\text{Constant},~\\text{x},~\\text{Constant},~\\text{Constant},~\\text{Constant},~\\text{x},~\\text{Constant},~\\text{Constant},~\\text{Constant},~\\text{x},~\\text{Constant},~\\text{Constant},~\\text{Constant},~\\text{x},~\\text{Constant},~\\text{Constant},~\\text{Constant},~\\text{x},~\\text{Constant},~\\text{Constant},~\\text{Constant},~\\text{x},~\\text{Constant},~\\text{Constant},~\\text{Constant},~\\text{x},~\\text{Constant},~\\text{Constant},~\\text{Constant},~\\text{x},~\\text{Constant},~\\text{Constant},~\\text{Constant},~\\text{x},~\\text{Constant},~\\text{Constant},~\\text{Constant},~\\text{x},~\\text{Constant},~\\text{Constant},~\\text{Constant},~\\text{x},~\\text{Constant},~\\text{Constant},~\\text{Constant},~\\text{x},~\\text{Constant},~\\text{Constant},~\\text{Constant},~\\text{x},~\\text{Constant},~\\text{Constant},~\\text{Constant},~\\text{x},~\\text{Constant},~\\text{Constant},~\\text{Constant},~\\text{x},~\\text{Constant},~\\text{Constant},~\\text{Constant},~\\text{x},~\\text{Constant},~\\text{Constant},~\\text{Constant},~\\text{x},~\\text{Constant},~\\text{Constant},~\\text{Constant},~\\text{x},~\\text{Constant},~\\text{Constant},~\\text{Constant},~\\text{x},~\\text{Constant},~\\text{Constant},~\\text{Constant},~\\text{x},~\\text{Constant},~\\text{Constant},~\\text{Constant},~\\text{x},~\\text{Constant},~\\text{Constant},~\\text{Constant},~\\text{x},~\\text{Constant},~\\text{Constant},~\\text{Constant},~\\text{x},~\\text{Constant},~\\text{Constant},~\\text{Constant},~\\text{x},~\\text{Constant},~\\text{Constant},~\\text{Constant},~\\text{x},~\\text{Constant},~\\text{Constant},~\\text{Constant},~\\text{x},~\\text{Constant},~\\text{Constant},~\\text{Constant},~\\text{x},~\\text{Constant},~\\text{Constant},~\\text{Constant},~\\text{x},~\\text{Constant},~\\text{Constant},~\\text{Constant},~\\text{x},~\\text{Constant},~\\text{Constant},~\\text{Constant},~\\text{x},~\\text{Constant},~\\text{Constant},~\\text{Constant},~\\text{x},~\\text{Constant},~\\text{Constant},~\\text{Constant},~\\text{x},~\\text{Constant},~\\text{Constant},~\\text{Constant},~\\text{x},~\\text{Constant},~\\text{Constant},~\\text{Constant},~\\text{x},~\\text{Constant},~\\text{Constant},~\\text{Constant},~\\text{x},~\\text{Constant},~\\text{Constant},~\\text{Constant},~\\text{x},~\\text{Constant},~\\text{Constant},~\\text{Constant},~\\text{x},~\\text{Constant},~\\text{Constant},~\\text{Constant},~\\text{x},~\\text{Constant},~\\text{Constant},~\\text{Constant},~\\text{x},~\\text{Constant},~\\text{Constant},~\\text{Constant},~\\text{x},~\\text{Constant},~\\text{Constant},~\\text{Constant},~\\text{x},~\\text{Constant},~\\text{Constant},~\\text{Constant},~\\text{x},~\\text{Constant},~\\text{Constant},~\\text{Constant},~\\text{x},~\\text{Constant},~\\text{Constant},~\\text{Constant},~\\text{x},~\\text{Constant},~\\text{Constant},~\\text{Constant},~\\text{x},~\\text{Constant},~\\text{Constant},~\\text{Constant},~\\text{x},~\\text{Constant},~\\text{Constant},~\\text{Constant},~\\text{x},~\\text{Constant},~\\text{Constant},~\\text{Constant},~\\text{x},~\\text{Constant},~\\text{Constant},~\\text{Constant},~\\text{x},~\\text{Constant},~\\text{Constant},~\\text{Constant},~\\text{x},~\\text{Constant},~\\text{Constant},~\\text{Constant},~\\text{x},~\\text{Constant},~\\text{Constant},~\\text{Constant},~\\text{x},~\\text{Constant},~\\text{Constant},~\\text{Constant},~\\text{x},~\\text{Constant},~\\text{Constant},~\\text{Constant},~\\text{x},~\\text{Constant},~\\text{Constant},~\\text{Constant},~\\text{x},~\\text{Constant},~\\text{Constant},~\\text{Constant},~\\text{x},~\\text{Constant},~\\text{Constant},~\\text{Constant},~\\text{x},~\\text{Constant},~\\text{Constant},~\\text{Constant},~\\text{x},~\\text{Constant},~\\text{Constant},~\\text{Constant},~\\text{x},~\\text{Constant},~\\text{Constant},~\\text{Constant},~\\text{Constant},~\\text{Constant},~\\text{Constant},~\\text{x},~\\text{Constant},~\\text{Constant},~\\text{Constant},~\\text{x},~\\text{Constant},~\\text{Constant},~\\text{Constant},~\\text{x},~\\text{Constant},~\\text{Constant},~\\text{Constant},~\\text{x},~\\text{Constant},~\\text{Constant},~\\text{Constant},~\\text{x},~\\text{Constant},~\\text{Constant},~\\text{Constant},~\\text{x},~\\text{Constant},~\\text{Constant},~\\text{Constant},~\\text{x},~\\text{Constant},~\\text{Constant},~\\text{Constant},~\\text{x},~\\text{Constant},~\\text{Constant},~\\text{Constant},~\\text{x},~\\text{Constant},~\\text{Constant},~\\text{Constant},~\\text{x},~\\text{Constant},~\\text{Constant},~\\text{Constant},~\\text{x},~\\text{Constant},~\\text{Constant},~\\text{Constant},~\\text{x},~\\text{Constant},~\\text{Constant},~\\text{Constant},~\\text{x},~\\text{Constant},~\\text{Constant},~\\text{Constant},~\\text{x},~\\text{Constant},~\\text{Constant},~\\text{Constant},~\\text{x},~\\text{Constant},~\\text{Constant},~\\text{Constant},~\\text{x},~\\text{Constant},~\\text{Constant},~\\text{Constant},~\\text{x},~\\text{Constant},~\\text{Constant},~\\text{Constant},~\\text{x},~\\text{Constant},~\\text{Constant},~\\text{Constant},~\\text{x},~\\text{Constant},~\\text{Constant},~\\text{Constant},~\\text{x},~\\text{Constant},~\\text{Constant},~\\text{Constant},~\\text{x},~\\text{Constant},~\\text{Constant},~\\text{Constant},~\\text{x},~\\text{Constant},~\\text{Constant},~\\text{Constant},~\\text{x},~\\text{Constant},~\\text{Constant},~\\text{Constant},~\\text{x},~\\text{Constant},~\\text{Constant},~\\text{Constant},~\\text{x},~\\text{Constant},~\\text{Constant},~\\text{Constant},~\\text{x},~\\text{Constant},~\\text{Constant},~\\text{Constant},~\\text{x},~\\text{Constant},~\\text{Constant},~\\text{Constant},~\\text{x},~\\text{Constant},~\\text{Constant},~\\text{Constant},~\\text{x},~\\text{Constant},~\\text{Constant},~\\text{Constant},~\\text{x},~\\text{Constant},~\\text{Constant},~\\text{Constant},~\\text{x},~\\text{Constant},~\\text{Constant},~\\text{Constant},~\\text{x},~\\text{Constant},~\\text{Constant},~\\text{Constant},~\\text{x},~\\text{Constant},~\\text{Constant},~\\text{Constant},~\\text{x},~\\text{Constant},~\\text{Constant},~\\text{Constant},~\\text{x},~\\text{Constant},~\\text{Constant},~\\text{Constant},~\\text{x},~\\text{Constant},~\\text{Constant},~\\text{Constant},~\\text{x},~\\text{Constant},~\\text{Constant},~\\text{Constant},~\\text{x},~\\text{Constant},~\\text{Constant},~\\text{Constant},~\\text{x},~\\text{Constant},~\\text{Constant},~\\text{Constant},~\\text{x},~\\text{Constant},~\\text{Constant},~\\text{Constant},~\\text{x},~\\text{Constant},~\\text{Constant},~\\text{Constant},~\\text{x},~\\text{Constant},~\\text{Constant},~\\text{Constant},~\\text{x},~\\text{Constant},~\\text{Constant},~\\text{Constant},~\\text{x},~\\text{Constant},~\\text{Constant},~\\text{Constant},~\\text{x},~\\text{Constant},~\\text{Constant},~\\text{Constant},~\\text{x},~\\text{Constant},~\\text{Constant},~\\text{Constant},~\\text{x},~\\text{Constant},~\\text{Constant},~\\text{Constant},~\\text{x},~\\text{Constant},~\\text{Constant},~\\text{Constant},~\\text{x},~\\text{Constant},~\\text{Constant},~\\text{Constant},~\\text{x},~\\text{Constant},~\\text{Constant},~\\text{Constant},~\\text{x},~\\text{Constant},~\\text{Constant},~\\text{Constant},~\\text{x},~\\text{Constant},~\\text{Constant},~\\text{Constant},~\\text{x},~\\text{Constant},~\\text{Constant},~\\text{Constant},~\\text{x},~\\text{Constant},~\\text{Constant},~\\text{Constant},~\\text{x},~\\text{Constant},~\\text{Constant},~\\text{Constant},~\\text{x},~\\text{Constant},~\\text{Constant},~\\text{Constant},~\\text{x},~\\text{Constant},~\\text{Constant},~\\text{Constant},~\\text{x},~\\text{Constant},~\\text{Constant},~\\text{Constant},~\\text{x},~\\text{Constant},~\\text{Constant},~\\text{Constant},~\\text{x},~\\text{Constant},~\\text{Constant},~\\text{Constant},~\\text{x},~\\text{Constant},~\\text{Constant},~\\text{Constant},~\\text{x},~\\text{Constant},~\\text{Constant},~\\text{Constant},~\\text{x},~\\text{Constant},~\\text{Constant},~\\text{Constant},~\\text{x},~\\text{Constant},~\\text{Constant},~\\text{Constant},~\\text{x},~\\text{Constant},~\\text{Constant},~\\text{Constant},~\\text{x},~\\text{Constant},~\\text{Constant},~\\text{Constant},~\\text{x},~\\text{Constant},~\\text{Constant},~\\text{Constant},~\\text{x},~\\text{Constant},~\\text{Constant},~\\text{Constant},~\\text{x},~\\text{Constant},~\\text{Constant},~\\text{Constant},~\\text{x},~\\text{Constant},~\\text{Constant},~\\text{Constant},~\\text{x},~\\text{Constant},~\\text{Constant},~\\text{Constant},~\\text{x},~\\text{Constant},~\\text{Constant},~\\text{Constant},~\\text{x},~\\text{Constant},~\\text{Constant},~\\text{Constant},~\\text{x},~\\text{Constant},~\\text{Constant},~\\text{Constant},~\\text{x},~\\text{Constant},~\\text{Constant},~\\text{Constant},~\\text{x},~\\text{Constant},~\\text{Constant},~\\text{Constant},~\\text{x},~\\text{Constant},~\\text{Constant},~\\text{Constant},~\\text{x},~\\text{Constant},~\\text{Constant},~\\text{Constant},~\\text{x},~\\text{Constant},~\\text{Constant},~\\text{Constant},~\\text{x},~\\text{Constant},~\\text{Constant},~\\text{Constant},~\\text{x},~\\text{Constant},~\\text{Constant},~\\text{Constant},~\\text{x},~\\text{Constant},~\\text{Constant},~\\text{Constant},~\\text{x},~\\text{Constant},~\\text{Constant},~\\text{Constant},~\\text{x},~\\text{Constant},~\\text{Constant},~\\text{Constant},~\\text{x},~\\text{Constant},~\\text{Constant},~\\text{Constant},~\\text{x},~\\text{Constant},~\\text{Constant},~\\text{Constant},~\\text{x},~\\text{Constant},~\\text{Constant},~\\text{Constant},~\\text{x},~\\text{Constant},~\\text{Constant},~\\text{Constant},~\\text{x},~\\text{Constant},~\\text{Constant},~\\text{Constant},~\\text{x},~\\text{Constant},~\\text{Constant},~\\text{Constant},~\\text{x},~\\text{Constant},~\\text{Constant},~\\text{Constant},~\\text{x},~\\text{Constant},~\\text{Constant},~\\text{Constant},~\\text{x},~\\text{Constant},~\\text{Constant},~\\text{Constant},~\\text{x},~\\text{Constant},~\\text{Constant},~\\text{Constant},~\\text{x},~\\text{Constant},~\\text{Constant},~\\text{Constant},~\\text{x},~\\text{Constant},~\\text{Constant},~\\text{Constant},~\\text{x},~\\text{Constant},~\\text{Constant},~\\text{Constant},~\\text{x},~\\text{Constant},~\\text{Constant},~\\text{Constant},~\\text{x},~\\text{Constant},~\\text{Constant},~\\text{Constant},~\\text{x},~\\text{Constant},~\\text{Constant},~\\text{Constant},~\\text{x},~\\text{Constant},~\\text{Constant},~\\text{Constant},~\\text{x},~\\text{Constant},~\\text{Constant},~\\text{Constant},~\\text{x},~\\text{Constant},~\\text{Constant},~\\text{Constant},~\\text{x},~\\text{Constant},~\\text{Constant},~\\text{Constant},~\\text{x},~\\text{Constant},~\\text{Constant},~\\text{Constant},~\\text{x},~\\text{Constant},~\\text{Constant},~\\text{Constant},~\\text{x},~\\text{Constant},~\\text{Constant},~\\text{Constant},~\\text{x},~\\text{Constant},~\\text{Constant},~\\text{Constant},~\\text{x},~\\text{Constant},~\\text{Constant},~\\text{Constant},~\\text{x},~\\text{Constant},~\\text{Constant},~\\text{Constant},~\\text{x},~\\text{Constant},~\\text{Constant},~\\text{Constant},~\\text{x},~\\text{Constant},~\\text{Constant},~\\text{Constant},~\\text{x},~\\text{Constant},~\\text{Constant},~\\text{Constant},~\\text{x},~\\text{Constant},~\\text{Constant},~\\text{Constant},~\\text{x},~\\text{Constant},~\\text{Constant},~\\text{Constant},~\\text{x},~\\text{Constant},~\\text{Constant},~\\text{Constant},~\\text{x},~\\text{Constant},~\\text{Constant},~\\text{Constant},~\\text{x},~\\text{Constant},~\\text{Constant},~\\text{Constant},~\\text{x},~\\text{Constant},~\\text{Constant},~\\text{Constant},~\\text{x},~\\text{Constant},~\\text{Constant},~\\text{Constant},~\\text{x},~\\text{Constant},~\\text{Constant},~\\text{Constant},~\\text{x},~\\text{Constant},~\\text{Constant},~\\text{Constant},~\\text{x},~\\text{Constant},~\\text{Constant},~\\text{Constant},~\\text{x},~\\text{Constant},~\\text{Constant},~\\text{Constant},~\\text{x},~\\text{Constant},~\\text{Constant},~\\text{Constant},~\\text{x},~\\text{Constant},~\\text{Constant},~\\text{Constant},~\\text{x},~\\text{Constant},~\\text{Constant},~\\text{Constant},~\\text{x},~\\text{Constant},~\\text{Constant},~\\text{Constant},~\\text{x},~\\text{Constant},~\\text{Constant},~\\text{Constant},~\\text{x},~\\text{Constant},~\\text{Constant},~\\text{Constant},~\\text{x},~\\text{Constant},~\\text{Constant},~\\text{Constant},~\\text{x},~\\text{Constant},~\\text{Constant},~\\text{Constant},~\\text{x},~\\text{Constant},~\\text{Constant},~\\text{Constant},~\\text{x},~\\text{Constant},~\\text{Constant},~\\text{Constant},~\\text{x},~\\text{Constant},~\\text{Constant},~\\text{Constant},~\\text{x},~\\text{Constant},~\\text{Constant},~\\text{Constant},~\\text{x},~\\text{Constant},~\\text{Constant},~\\text{Constant},~\\text{x},~\\text{Constant},~\\text{Constant},~\\text{Constant},~\\text{x},~\\text{Constant},~\\text{Constant},~\\text{Constant},~\\text{x},~\\text{Constant},~\\text{Constant},~\\text{Constant},~\\text{x},~\\text{Constant},~\\text{Constant},~\\text{Constant},~\\text{x},~\\text{Constant},~\\text{Constant},~\\text{Constant},~\\text{x},~\\text{Constant},~\\text{Constant},~\\text{Constant},~\\text{x},~\\text{Constant},~\\text{Constant},~\\text{Constant},~\\text{x},~\\text{Constant},~\\text{Constant},~\\text{Constant},~\\text{x},~\\text{Constant},~\\text{Constant},~\\text{Constant},~\\text{x},~\\text{Constant},~\\text{Constant},~\\text{Constant},~\\text{x},~\\text{Constant},~\\text{Constant},~\\text{Constant},~\\text{x},~\\text{Constant},~\\text{Constant},~\\text{Constant},~\\text{x},~\\text{Constant},~\\text{Constant},~\\text{Constant},~\\text{x},~\\text{Constant},~\\text{Constant},~\\text{Constant},~\\text{x},~\\text{Constant},~\\text{Constant},~\\text{Constant},~\\text{x},~\\text{Constant},~\\text{Constant},~\\text{Constant},~\\text{x},~\\text{Constant},~\\text{Constant},~\\text{Constant},~\\text{x},~\\text{Constant},~\\text{Constant},~\\text{Constant},~\\text{x},~\\text{Constant},~\\text{Constant},~\\text{Constant},~\\text{x},~\\text{Constant},~\\text{Constant},~\\text{Constant},~\\text{x},~\\text{Constant},~\\text{Constant},~\\text{Constant},~\\text{x},~\\text{Constant},~\\text{Constant},~\\text{Constant},~\\text{x},~\\text{Constant},~\\text{Constant},~\\text{Constant},~\\text{x},~\\text{Constant},~\\text{Constant},~\\text{Constant},~\\text{x},~\\text{Constant},~\\text{Constant},~\\text{Constant},~\\text{x},~\\text{Constant},~\\text{Constant},~\\text{Constant},~\\text{x},~\\text{Constant},~\\text{Constant},~\\text{Constant},~\\text{x},~\\text{Constant},~\\text{Constant},~\\text{Constant},~\\text{x},~\\text{Constant},~\\text{Constant},~\\text{Constant},~\\text{x},~\\text{Constant},~\\text{Constant},~\\text{Constant},~\\text{x},~\\text{Constant},~\\text{Constant},~\\text{Constant},~\\text{x},~\\text{Constant},~\\text{Constant},~\\text{Constant},~\\text{x},~\\text{Constant},~\\text{Constant},~\\text{Constant},~\\text{x},~\\text{Constant},~\\text{Constant},~\\text{Constant},~\\text{x},~\\text{Constant},~\\text{Constant},~\\text{Constant},~\\text{x},~\\text{Constant},~\\text{Constant},~\\text{Constant},~\\text{x},~\\text{Constant},~\\text{Constant},~\\text{Constant},~\\text{x},~\\text{Constant},~\\text{Constant},~\\text{Constant},~\\text{x},~\\text{Constant},~\\text{Constant},~\\text{Constant},~\\text{x},~\\text{Constant},~\\text{Constant},~\\text{Constant},~\\text{x},~\\text{Constant},~\\text{Constant},~\\text{Constant},~\\text{x},~\\text{Constant},~\\text{Constant},~\\text{Constant},~\\text{x},~\\text{Constant},~\\text{Constant},~\\text{Constant},~\\text{x},~\\text{Constant},~\\text{Constant},~\\text{Constant},~\\text{x},~\\text{Constant},~\\text{Constant},~\\text{Constant},~\\text{x},~\\text{Constant},~\\text{Constant},~\\text{Constant},~\\text{x},~\\text{Constant},~\\text{Constant},~\\text{Constant},~\\text{x},~\\text{Constant},~\\text{Constant},~\\text{Constant},~\\text{x},~\\text{Constant},~\\text{Constant},~\\text{Constant},~\\text{x},~\\text{Constant},~\\text{Constant},~\\text{Constant},~\\text{x},~\\text{Constant},~\\text{Constant},~\\text{Constant},~\\text{x},~\\text{Constant},~\\text{Constant},~\\text{Constant},~\\text{x},~\\text{Constant},~\\text{Constant},~\\text{Constant},~\\text{x},~\\text{Constant},~\\text{Constant},~\\text{Constant},~\\text{x},~\\text{Constant},~\\text{Constant},~\\text{Constant},~\\text{x},~\\text{Constant},~\\text{Constant},~\\text{Constant},~\\text{x},~\\text{Constant},~\\text{Constant},~\\text{Constant},~\\text{x},~\\text{Constant},~\\text{Constant},~\\text{Constant},~\\text{x},~\\text{Constant},~\\text{Constant},~\\text{Constant},~\\text{x},~\\text{Constant},~\\text{Constant},~\\text{Constant},~\\text{x},~\\text{Constant},~\\text{Constant},~\\text{Constant},~\\text{x},~\\text{Constant},~\\text{Constant},~\\text{Constant},~\\text{x},~\\text{Constant},~\\text{Constant},~\\text{Constant},~\\text{x},~\\text{Constant},~\\text{Constant},~\\text{Constant},~\\text{x},~\\text{Constant},~\\text{Constant},~\\text{Constant},~\\text{x},~\\text{Constant},~\\text{Constant},~\\text{Constant},~\\text{x},~\\text{Constant},~\\text{Constant},~\\text{Constant},~\\text{x},~\\text{Constant},~\\text{Constant},~\\text{Constant},~\\text{x},~\\text{Constant},~\\text{Constant},~\\text{Constant},~\\text{x},~\\text{Constant},~\\text{Constant},~\\text{Constant},~\\text{x},~\\text{Constant},~\\text{Constant},~\\text{Constant},~\\text{x},~\\text{Constant},~\\text{Constant},~\\text{Constant},~\\text{x},~\\text{Constant},~\\text{Constant},~\\text{Constant},~\\text{x},~\\text{Constant},~\\text{Constant},~\\text{Constant},~\\text{x},~\\text{Constant},~\\text{Constant},~\\text{Constant},~\\text{x},~\\text{Constant},~\\text{Constant},~\\text{Constant},~\\text{x},~\\text{Constant},~\\text{Constant},~\\text{Constant},~\\text{x},~\\text{Constant},~\\text{Constant},~\\text{Constant},~\\text{x},~\\text{Constant},~\\text{Constant},~\\text{Constant},~\\text{x},~\\text{Constant},~\\text{Constant},~\\text{Constant},~\\text{x},~\\text{Constant},~\\text{Constant},~\\text{Constant},~\\text{x},~\\text{Constant},~\\text{Constant},~\\text{Constant},~\\text{x},~\\text{Constant},~\\text{Constant},~\\text{Constant},~\\text{x},~\\text{Constant},~\\text{Constant},~\\text{Constant},~\\text{x},~\\text{Constant},~\\text{Constant},~\\text{Constant},~\\text{x},~\\text{Constant},~\\text{Constant},~\\text{Constant},~\\text{x},~\\text{Constant},~\\text{Constant},~\\text{Constant},~\\text{x},~\\text{Constant},~\\text{Constant},~\\text{Constant},~\\text{x},~\\text{Constant},~\\text{Constant},~\\text{Constant},~\\text{x},~\\text{Constant},~\\text{Constant},~\\text{Constant},~\\text{x},~\\text{Constant},~\\text{Constant},~\\text{Constant},~\\text{x},~\\text{Constant},~\\text{Constant},~\\text{Constant},~\\text{x},~\\text{Constant},~\\text{Constant},~\\text{Constant},~\\text{x},~\\text{Constant},~\\text{Constant},~\\text{Constant},~\\text{x},~\\text{Constant},~\\text{Constant},~\\text{Constant},~\\text{x},~\\text{Constant},~\\text{Constant},~\\text{Constant},~\\text{x},~\\text{Constant},~\\text{Constant},~\\text{Constant},~\\text{x},~\\text{Constant},~\\text{Constant},~\\text{Constant},~\\text{x},~\\text{Constant},~\\text{Constant},~\\text{Constant},~\\text{x},~\\text{Constant},~\\text{Constant},~\\text{Constant},~\\text{x},~\\text{Constant},~\\text{Constant},~\\text{Constant},~\\text{x},~\\text{Constant},~\\text{Constant},~\\text{Constant},~\\text{x},~\\text{Constant},~\\text{Constant},~\\text{Constant},~\\text{Constant},~\\text{Constant},~\\text{Constant},~\\text{x},~\\text{Constant},~\\text{Constant},~\\text{Constant},~\\text{x},~\\text{Constant},~\\text{Constant},~\\text{Constant},~\\text{x},~\\text{Constant},~\\text{Constant},~\\text{Constant},~\\text{x},~\\text{Constant},~\\text{Constant},~\\text{Constant},~\\text{x},~\\text{Constant},~\\text{Constant},~\\text{Constant},~\\text{x},~\\text{Constant},~\\text{Constant},~\\text{Constant},~\\text{x},~\\text{Constant},~\\text{Constant},~\\text{Constant},~\\text{x},~\\text{Constant},~\\text{Constant},~\\text{Constant},~\\text{x},~\\text{Constant},~\\text{Constant},~\\text{Constant},~\\text{x},~\\text{Constant},~\\text{Constant},~\\text{Constant},~\\text{x},~\\text{Constant},~\\text{Constant},~\\text{Constant},~\\text{x},~\\text{Constant},~\\text{Constant},~\\text{Constant},~\\text{x},~\\text{Constant},~\\text{Constant},~\\text{Constant},~\\text{x},~\\text{Constant},~\\text{Constant},~\\text{Constant},~\\text{x},~\\text{Constant},~\\text{Constant},~\\text{Constant},~\\text{x},~\\text{Constant},~\\text{Constant},~\\text{Constant},~\\text{x},~\\text{Constant},~\\text{Constant},~\\text{Constant},~\\text{x},~\\text{Constant},~\\text{Constant},~\\text{Constant},~\\text{x},~\\text{Constant},~\\text{Constant},~\\text{Constant},~\\text{x},~\\text{Constant},~\\text{Constant},~\\text{Constant},~\\text{x},~\\text{Constant},~\\text{Constant},~\\text{Constant},~\\text{x},~\\text{Constant},~\\text{Constant},~\\text{Constant},~\\text{x},~\\text{Constant},~\\text{Constant},~\\text{Constant},~\\text{x},~\\text{Constant},~\\text{Constant},~\\text{Constant},~\\text{x},~\\text{Constant},~\\text{Constant},~\\text{Constant},~\\text{x},~\\text{Constant},~\\text{Constant},~\\text{Constant},~\\text{x},~\\text{Constant},~\\text{Constant},~\\text{Constant},~\\text{x},~\\text{Constant},~\\text{Constant},~\\text{Constant},~\\text{x},~\\text{Constant},~\\text{Constant},~\\text{Constant},~\\text{x},~\\text{Constant},~\\text{Constant},~\\text{Constant},~\\text{x},~\\text{Constant},~\\text{Constant},~\\text{Constant},~\\text{x},~\\text{Constant},~\\text{Constant},~\\text{Constant},~\\text{x},~\\text{Constant},~\\text{Constant},~\\text{Constant},~\\text{x},~\\text{Constant},~\\text{Constant},~\\text{Constant},~\\text{x},~\\text{Constant},~\\text{Constant},~\\text{Constant},~\\text{x},~\\text{Constant},~\\text{Constant},~\\text{Constant},~\\text{x},~\\text{Constant},~\\text{Constant},~\\text{Constant},~\\text{x},~\\text{Constant},~\\text{Constant},~\\text{Constant},~\\text{x},~\\text{Constant},~\\text{Constant},~\\text{Constant},~\\text{x},~\\text{Constant},~\\text{Constant},~\\text{Constant},~\\text{x},~\\text{Constant},~\\text{Constant},~\\text{Constant},~\\text{x},~\\text{Constant},~\\text{Constant},~\\text{Constant},~\\text{x},~\\text{Constant},~\\text{Constant},~\\text{Constant},~\\text{x},~\\text{Constant},~\\text{Constant},~\\text{Constant},~\\text{x},~\\text{Constant},~\\text{Constant},~\\text{Constant},~\\text{x},~\\text{Constant},~\\text{Constant},~\\text{Constant},~\\text{x},~\\text{Constant},~\\text{Constant},~\\text{Constant},~\\text{x},~\\text{Constant},~\\text{Constant},~\\text{Constant},~\\text{x},~\\text{Constant},~\\text{Constant},~\\text{Constant},~\\text{x},~\\text{Constant},~\\text{Constant},~\\text{Constant},~\\text{x},~\\text{Constant},~\\text{Constant},~\\text{Constant},~\\text{x},~\\text{Constant},~\\text{Constant},~\\text{Constant},~\\text{x},~\\text{Constant},~\\text{Constant},~\\text{Constant},~\\text{x},~\\text{Constant},~\\text{Constant},~\\text{Constant},~\\text{x},~\\text{Constant},~\\text{Constant},~\\text{Constant},~\\text{x},~\\text{Constant},~\\text{Constant},~\\text{Constant},~\\text{x},~\\text{Constant},~\\text{Constant},~\\text{Constant},~\\text{x},~\\text{Constant},~\\text{Constant},~\\text{Constant},~\\text{x},~\\text{Constant},~\\text{Constant},~\\text{Constant},~\\text{x},~\\text{Constant},~\\text{Constant},~\\text{Constant},~\\text{x},~\\text{Constant},~\\text{Constant},~\\text{Constant},~\\text{x},~\\text{Constant},~\\text{Constant},~\\text{Constant},~\\text{x},~\\text{Constant},~\\text{Constant},~\\text{Constant},~\\text{x},~\\text{Constant},~\\text{Constant},~\\text{Constant},~\\text{x},~\\text{Constant},~\\text{Constant},~\\text{Constant},~\\text{x},~\\text{Constant},~\\text{Constant},~\\text{Constant},~\\text{x},~\\text{Constant},~\\text{Constant},~\\text{Constant},~\\text{x},~\\text{Constant},~\\text{Constant},~\\text{Constant},~\\text{x},~\\text{Constant},~\\text{Constant},~\\text{Constant},~\\text{x},~\\text{Constant},~\\text{Constant},~\\text{Constant},~\\text{x},~\\text{Constant},~\\text{Constant},~\\text{Constant},~\\text{x},~\\text{Constant},~\\text{Constant},~\\text{Constant},~\\text{x},~\\text{Constant},~\\text{Constant},~\\text{Constant},~\\text{x},~\\text{Constant},~\\text{Constant},~\\text{Constant},~\\text{x},~\\text{Constant},~\\text{Constant},~\\text{Constant},~\\text{x},~\\text{Constant},~\\text{Constant},~\\text{Constant},~\\text{x},~\\text{Constant},~\\text{Constant},~\\text{Constant},~\\text{x},~\\text{Constant},~\\text{Constant},~\\text{Constant},~\\text{x},~\\text{Constant},~\\text{Constant},~\\text{Constant},~\\text{x},~\\text{Constant},~\\text{Constant},~\\text{Constant},~\\text{x},~\\text{Constant},~\\text{Constant},~\\text{Constant},~\\text{x},~\\text{Constant},~\\text{Constant},~\\text{Constant},~\\text{x},~\\text{Constant},~\\text{Constant},~\\text{Constant},~\\text{x},~\\text{Constant},~\\text{Constant},~\\text{Constant},~\\text{x},~\\text{Constant},~\\text{Constant},~\\text{Constant},~\\text{x},~\\text{Constant},~\\text{Constant},~\\text{Constant},~\\text{x},~\\text{Constant},~\\text{Constant},~\\text{Constant},~\\text{x},~\\text{Constant},~\\text{Constant},~\\text{Constant},~\\text{x},~\\text{Constant},~\\text{Constant},~\\text{Constant},~\\text{x},~\\text{Constant},~\\text{Constant},~\\text{Constant},~\\text{x},~\\text{Constant},~\\text{Constant},~\\text{Constant},~\\text{x},~\\text{Constant},~\\text{Constant},~\\text{Constant},~\\text{x},~\\text{Constant},~\\text{Constant},~\\text{Constant},~\\text{x},~\\text{Constant},~\\text{Constant},~\\text{Constant},~\\text{x},~\\text{Constant},~\\text{Constant},~\\text{Constant},~\\text{x},~\\text{Constant},~\\text{Constant},~\\text{Constant},~\\text{x},~\\text{Constant},~\\text{Constant},~\\text{Constant},~\\text{x},~\\text{Constant},~\\text{Constant},~\\text{Constant},~\\text{x},~\\text{Constant},~\\text{Constant},~\\text{Constant},~\\text{x},~\\text{Constant},~\\text{Constant},~\\text{Constant},~\\text{x},~\\text{Constant},~\\text{Constant},~\\text{Constant},~\\text{x},~\\text{Constant},~\\text{Constant},~\\text{Constant},~\\text{x},~\\text{Constant},~\\text{Constant},~\\text{Constant},~\\text{x},~\\text{Constant},~\\text{Constant},~\\text{Constant},~\\text{x},~\\text{Constant},~\\text{Constant},~\\text{Constant},~\\text{x},~\\text{Constant},~\\text{Constant},~\\text{Constant},~\\text{x},~\\text{Constant},~\\text{Constant},~\\text{Constant},~\\text{x},~\\text{Constant},~\\text{Constant},~\\text{Constant},~\\text{x},~\\text{Constant},~\\text{Constant},~\\text{Constant},~\\text{x},~\\text{Constant},~\\text{Constant},~\\text{Constant},~\\text{x},~\\text{Constant},~\\text{Constant},~\\text{Constant},~\\text{x},~\\text{Constant},~\\text{Constant},~\\text{Constant},~\\text{x},~\\text{Constant},~\\text{Constant},~\\text{Constant},~\\text{x},~\\text{Constant},~\\text{Constant},~\\text{Constant},~\\text{x},~\\text{Constant},~\\text{Constant},~\\text{Constant},~\\text{x},~\\text{Constant},~\\text{Constant},~\\text{Constant},~\\text{x},~\\text{Constant},~\\text{Constant},~\\text{Constant},~\\text{x},~\\text{Constant},~\\text{Constant},~\\text{Constant},~\\text{x},~\\text{Constant},~\\text{Constant},~\\text{Constant},~\\text{x},~\\text{Constant},~\\text{Constant},~\\text{Constant},~\\text{x},~\\text{Constant},~\\text{Constant},~\\text{Constant},~\\text{x},~\\text{Constant},~\\text{Constant},~\\text{Constant},~\\text{x},~\\text{Constant},~\\text{Constant},~\\text{Constant},~\\text{x},~\\text{Constant},~\\text{Constant},~\\text{Constant},~\\text{x},~\\text{Constant},~\\text{Constant},~\\text{Constant},~\\text{x},~\\text{Constant},~\\text{Constant},~\\text{Constant},~\\text{x},~\\text{Constant},~\\text{Constant},~\\text{Constant},~\\text{x},~\\text{Constant},~\\text{Constant},~\\text{Constant},~\\text{x},~\\text{Constant},~\\text{Constant},~\\text{Constant},~\\text{x},~\\text{Constant},~\\text{Constant},~\\text{Constant},~\\text{x},~\\text{Constant},~\\text{Constant},~\\text{Constant},~\\text{x},~\\text{Constant},~\\text{Constant},~\\text{Constant},~\\text{x},~\\text{Constant},~\\text{Constant},~\\text{Constant},~\\text{x},~\\text{Constant},~\\text{Constant},~\\text{Constant},~\\text{x},~\\text{Constant},~\\text{Constant},~\\text{Constant},~\\text{x},~\\text{Constant},~\\text{Constant},~\\text{Constant},~\\text{x},~\\text{Constant},~\\text{Constant},~\\text{Constant},~\\text{x},~\\text{Constant},~\\text{Constant},~\\text{Constant},~\\text{x},~\\text{Constant},~\\text{Constant},~\\text{Constant},~\\text{x},~\\text{Constant},~\\text{Constant},~\\text{Constant},~\\text{x},~\\text{Constant},~\\text{Constant},~\\text{Constant},~\\text{x},~\\text{Constant},~\\text{Constant},~\\text{Constant},~\\text{x},~\\text{Constant},~\\text{Constant},~\\text{Constant},~\\text{x},~\\text{Constant},~\\text{Constant},~\\text{Constant},~\\text{x},~\\text{Constant},~\\text{Constant},~\\text{Constant},~\\text{x},~\\text{Constant},~\\text{Constant},~\\text{Constant},~\\text{x},~\\text{Constant},~\\text{Constant},~\\text{Constant},~\\text{x},~\\text{Constant},~\\text{Constant},~\\text{Constant},~\\text{x},~\\text{Constant},~\\text{Constant},~\\text{Constant},~\\text{x},~\\text{Constant},~\\text{Constant},~\\text{Constant},~\\text{x},~\\text{Constant},~\\text{Constant},~\\text{Constant},~\\text{x},~\\text{Constant},~\\text{Constant},~\\text{Constant},~\\text{x},~\\text{Constant},~\\text{Constant},~\\text{Constant},~\\text{x},~\\text{Constant},~\\text{Constant},~\\text{Constant},~\\text{x},~\\text{Constant},~\\text{Constant},~\\text{Constant},~\\text{x},~\\text{Constant},~\\text{Constant},~\\text{Constant},~\\text{x},~\\text{Constant},~\\text{Constant},~\\text{Constant},~\\text{x},~\\text{Constant},~\\text{Constant},~\\text{Constant},~\\text{x},~\\text{Constant},~\\text{Constant},~\\text{Constant},~\\text{x},~\\text{Constant},~\\text{Constant},~\\text{Constant},~\\text{x},~\\text{Constant},~\\text{Constant},~\\text{Constant},~\\text{x},~\\text{Constant},~\\text{Constant},~\\text{Constant},~\\text{x},~\\text{Constant},~\\text{Constant},~\\text{Constant},~\\text{x},~\\text{Constant},~\\text{Constant},~\\text{Constant},~\\text{x},~\\text{Constant},~\\text{Constant},~\\text{Constant},~\\text{x},~\\text{Constant},~\\text{Constant},~\\text{Constant},~\\text{x},~\\text{Constant},~\\text{Constant},~\\text{Constant},~\\text{x},~\\text{Constant},~\\text{Constant},~\\text{Constant},~\\text{x},~\\text{Constant},~\\text{Constant},~\\text{Constant},~\\text{x},~\\text{Constant},~\\text{Constant},~\\text{Constant},~\\text{x},~\\text{Constant},~\\text{Constant},~\\text{Constant},~\\text{x},~\\text{Constant},~\\text{Constant},~\\text{Constant},~\\text{x},~\\text{Constant},~\\text{Constant},~\\text{Constant},~\\text{x},~\\text{Constant},~\\text{Constant},~\\text{Constant},~\\text{x},~\\text{Constant},~\\text{Constant},~\\text{Constant},~\\text{x},~\\text{Constant},~\\text{Constant},~\\text{Constant},~\\text{x},~\\text{Constant},~\\text{Constant},~\\text{Constant},~\\text{x},~\\text{Constant},~\\text{Constant},~\\text{Constant},~\\text{x},~\\text{Constant},~\\text{Constant},~\\text{Constant},~\\text{x},~\\text{Constant},~\\text{Constant},~\\text{Constant},~\\text{x},~\\text{Constant},~\\text{Constant},~\\text{Constant},~\\text{x},~\\text{Constant},~\\text{Constant},~\\text{Constant},~\\text{x},~\\text{Constant},~\\text{Constant},~\\text{Constant},~\\text{x},~\\text{Constant},~\\text{Constant},~\\text{Constant},~\\text{x},~\\text{Constant},~\\text{Constant},~\\text{Constant},~\\text{x},~\\text{Constant},~\\text{Constant},~\\text{Constant},~\\text{x},~\\text{Constant},~\\text{Constant},~\\text{Constant},~\\text{x},~\\text{Constant},~\\text{Constant},~\\text{Constant},~\\text{x},~\\text{Constant},~\\text{Constant},~\\text{Constant},~\\text{x},~\\text{Constant},~\\text{Constant},~\\text{Constant},~\\text{x},~\\text{Constant},~\\text{Constant},~\\text{Constant},~\\text{x},~\\text{Constant},~\\text{Constant},~\\text{Constant},~\\text{x},~\\text{Constant},~\\text{Constant},~\\text{Constant},~\\text{x},~\\text{Constant},~\\text{Constant},~\\text{Constant},~\\text{x},~\\text{Constant},~\\text{Constant},~\\text{Constant},~\\text{x},~\\text{Constant},~\\text{Constant},~\\text{Constant},~\\text{x},~\\text{Constant},~\\text{Constant},~\\text{Constant},~\\text{x},~\\text{Constant},~\\text{Constant},~\\text{Constant},~\\text{x},~\\text{Constant},~\\text{Constant},~\\text{Constant},~\\text{x},~\\text{Constant},~\\text{Constant},~\\text{Constant},~\\text{x},~\\text{Constant},~\\text{Constant},~\\text{Constant},~\\text{x},~\\text{Constant},~\\text{Constant},~\\text{Constant},~\\text{x},~\\text{Constant},~\\text{Constant},~\\text{Constant},~\\text{x},~\\text{Constant},~\\text{Constant},~\\text{Constant},~\\text{x},~\\text{Constant},~\\text{Constant},~\\text{Constant},~\\text{x},~\\text{Constant},~\\text{Constant},~\\text{Constant},~\\text{x},~\\text{Constant},~\\text{Constant},~\\text{Constant},~\\text{x},~\\text{Constant},~\\text{Constant},~\\text{Constant},~\\text{x},~\\text{Constant},~\\text{Constant},~\\text{Constant},~\\text{x},~\\text{Constant},~\\text{Constant},~\\text{Constant},~\\text{x},~\\text{Constant},~\\text{Constant},~\\text{Constant},~\\text{x},~\\text{Constant},~\\text{Constant},~\\text{Constant},~\\text{x},~\\text{Constant},~\\text{Constant},~\\text{Constant},~\\text{x},~\\text{Constant},~\\text{Constant},~\\text{Constant},~\\text{x},~\\text{Constant},~\\text{Constant},~\\text{Constant},~\\text{x},~\\text{Constant},~\\text{Constant},~\\text{Constant},~\\text{x},~\\text{Constant},~\\text{Constant},~\\text{Constant},~\\text{x},~\\text{Constant},~\\text{Constant},~\\text{Constant},~\\text{x},~\\text{Constant},~\\text{Constant},~\\text{Constant},~\\text{x},~\\text{Constant},~\\text{Constant},~\\text{Constant},~\\text{x},~\\text{Constant},~\\text{Constant},~\\text{Constant},~\\text{x},~\\text{Constant},~\\text{Constant},~\\text{Constant},~\\text{x},~\\text{Constant},~\\text{Constant},~\\text{Constant},~\\text{x},~\\text{Constant},~\\text{Constant},~\\text{Constant},~\\text{x},~\\text{Constant},~\\text{Constant},~\\text{Constant},~\\text{x},~\\text{Constant},~\\text{Constant},~\\text{Constant},~\\text{x},~\\text{Constant},~\\text{Constant},~\\text{Constant},~\\text{x},~\\text{Constant},~\\text{Constant},~\\text{Constant},~\\text{x},~\\text{Constant},~\\text{Constant},~\\text{Constant},~\\text{x},~\\text{Constant},~\\text{Constant},~\\text{Constant},~\\text{x},~\\text{Constant},~\\text{Constant},~\\text{Constant},~\\text{x},~\\text{Constant},~\\text{Constant},~\\text{Constant},~\\text{x},~\\text{Constant},~\\text{Constant},~\\text{Constant},~\\text{x},~\\text{Constant},~\\text{Constant},~\\text{Constant},~\\text{x},~\\text{Constant},~\\text{Constant},~\\text{Constant},~\\text{x},~\\text{Constant},~\\text{Constant},~\\text{Constant},~\\text{x},~\\text{Constant},~\\text{Constant},~\\text{Constant},~\\text{x},~\\text{Constant},~\\text{Constant},~\\text{Constant},~\\text{x},~\\text{Constant},~\\text{Constant},~\\text{Constant},~\\text{x},~\\text{Constant},~\\text{Constant},~\\text{Constant},~\\text{Constant},~\\text{Constant},~\\text{Constant},~\\text{x},~\\text{Constant},~\\text{Constant},~\\text{Constant},~\\text{x},~\\text{Constant},~\\text{Constant},~\\text{Constant},~\\text{x},~\\text{Constant},~\\text{Constant},~\\text{Constant},~\\text{x},~\\text{Constant},~\\text{Constant},~\\text{Constant},~\\text{x},~\\text{Constant},~\\text{Constant},~\\text{Constant},~\\text{x},~\\text{Constant},~\\text{Constant},~\\text{Constant},~\\text{x},~\\text{Constant},~\\text{Constant},~\\text{Constant},~\\text{x},~\\text{Constant},~\\text{Constant},~\\text{Constant},~\\text{x},~\\text{Constant},~\\text{Constant},~\\text{Constant},~\\text{x},~\\text{Constant},~\\text{Constant},~\\text{Constant},~\\text{x},~\\text{Constant},~\\text{Constant},~\\text{Constant},~\\text{x},~\\text{Constant},~\\text{Constant},~\\text{Constant},~\\text{x},~\\text{Constant},~\\text{Constant},~\\text{Constant},~\\text{x},~\\text{Constant},~\\text{Constant},~\\text{Constant},~\\text{x},~\\text{Constant},~\\text{Constant},~\\text{Constant},~\\text{x},~\\text{Constant},~\\text{Constant},~\\text{Constant},~\\text{x},~\\text{Constant},~\\text{Constant},~\\text{Constant},~\\text{x},~\\text{Constant},~\\text{Constant},~\\text{Constant},~\\text{x},~\\text{Constant},~\\text{Constant},~\\text{Constant},~\\text{x},~\\text{Constant},~\\text{Constant},~\\text{Constant},~\\text{x},~\\text{Constant},~\\text{Constant},~\\text{Constant},~\\text{x},~\\text{Constant},~\\text{Constant},~\\text{Constant},~\\text{x},~\\text{Constant},~\\text{Constant},~\\text{Constant},~\\text{x},~\\text{Constant},~\\text{Constant},~\\text{Constant},~\\text{x},~\\text{Constant},~\\text{Constant},~\\text{Constant},~\\text{x},~\\text{Constant},~\\text{Constant},~\\text{Constant},~\\text{x},~\\text{Constant},~\\text{Constant},~\\text{Constant},~\\text{x},~\\text{Constant},~\\text{Constant},~\\text{Constant},~\\text{x},~\\text{Constant},~\\text{Constant},~\\text{Constant},~\\text{x},~\\text{Constant},~\\text{Constant},~\\text{Constant},~\\text{x},~\\text{Constant},~\\text{Constant},~\\text{Constant},~\\text{x},~\\text{Constant},~\\text{Constant},~\\text{Constant},~\\text{x},~\\text{Constant},~\\text{Constant},~\\text{Constant},~\\text{x},~\\text{Constant},~\\text{Constant},~\\text{Constant},~\\text{x},~\\text{Constant},~\\text{Constant},~\\text{Constant},~\\text{x},~\\text{Constant},~\\text{Constant},~\\text{Constant},~\\text{x},~\\text{Constant},~\\text{Constant},~\\text{Constant},~\\text{x},~\\text{Constant},~\\text{Constant},~\\text{Constant},~\\text{x},~\\text{Constant},~\\text{Constant},~\\text{Constant},~\\text{x},~\\text{Constant},~\\text{Constant},~\\text{Constant},~\\text{x},~\\text{Constant},~\\text{Constant},~\\text{Constant},~\\text{x},~\\text{Constant},~\\text{Constant},~\\text{Constant},~\\text{x},~\\text{Constant},~\\text{Constant},~\\text{Constant},~\\text{x},~\\text{Constant},~\\text{Constant},~\\text{Constant},~\\text{x},~\\text{Constant},~\\text{Constant},~\\text{Constant},~\\text{x},~\\text{Constant},~\\text{Constant},~\\text{Constant},~\\text{x},~\\text{Constant},~\\text{Constant},~\\text{Constant},~\\text{x},~\\text{Constant},~\\text{Constant},~\\text{Constant},~\\text{x},~\\text{Constant},~\\text{Constant},~\\text{Constant},~\\text{x},~\\text{Constant},~\\text{Constant},~\\text{Constant},~\\text{x},~\\text{Constant},~\\text{Constant},~\\text{Constant},~\\text{x},~\\text{Constant},~\\text{Constant},~\\text{Constant},~\\text{x},~\\text{Constant},~\\text{Constant},~\\text{Constant},~\\text{x},~\\text{Constant},~\\text{Constant},~\\text{Constant},~\\text{x},~\\text{Constant},~\\text{Constant},~\\text{Constant},~\\text{x},~\\text{Constant},~\\text{Constant},~\\text{Constant},~\\text{x},~\\text{Constant},~\\text{Constant},~\\text{Constant},~\\text{x},~\\text{Constant},~\\text{Constant},~\\text{Constant},~\\text{x},~\\text{Constant},~\\text{Constant},~\\text{Constant},~\\text{x},~\\text{Constant},~\\text{Constant},~\\text{Constant},~\\text{x},~\\text{Constant},~\\text{Constant},~\\text{Constant},~\\text{x},~\\text{Constant},~\\text{Constant},~\\text{Constant},~\\text{x},~\\text{Constant},~\\text{Constant},~\\text{Constant},~\\text{x},~\\text{Constant},~\\text{Constant},~\\text{Constant},~\\text{x},~\\text{Constant},~\\text{Constant},~\\text{Constant},~\\text{x},~\\text{Constant},~\\text{Constant},~\\text{Constant},~\\text{x},~\\text{Constant},~\\text{Constant},~\\text{Constant},~\\text{x},~\\text{Constant},~\\text{Constant},~\\text{Constant},~\\text{x},~\\text{Constant},~\\text{Constant},~\\text{Constant},~\\text{x},~\\text{Constant},~\\text{Constant},~\\text{Constant},~\\text{x},~\\text{Constant},~\\text{Constant},~\\text{Constant},~\\text{x},~\\text{Constant},~\\text{Constant},~\\text{Constant},~\\text{x},~\\text{Constant},~\\text{Constant},~\\text{Constant},~\\text{x},~\\text{Constant},~\\text{Constant},~\\text{Constant},~\\text{x},~\\text{Constant},~\\text{Constant},~\\text{Constant},~\\text{x},~\\text{Constant},~\\text{Constant},~\\text{Constant},~\\text{x},~\\text{Constant},~\\text{Constant},~\\text{Constant},~\\text{x},~\\text{Constant},~\\text{Constant},~\\text{Constant},~\\text{x},~\\text{Constant},~\\text{Constant},~\\text{Constant},~\\text{x},~\\text{Constant},~\\text{Constant},~\\text{Constant},~\\text{x},~\\text{Constant},~\\text{Constant},~\\text{Constant},~\\text{x},~\\text{Constant},~\\text{Constant},~\\text{Constant},~\\text{x},~\\text{Constant},~\\text{Constant},~\\text{Constant},~\\text{x},~\\text{Constant},~\\text{Constant},~\\text{Constant},~\\text{x},~\\text{Constant},~\\text{Constant},~\\text{Constant},~\\text{x},~\\text{Constant},~\\text{Constant},~\\text{Constant},~\\text{x},~\\text{Constant},~\\text{Constant},~\\text{Constant},~\\text{x},~\\text{Constant},~\\text{Constant},~\\text{Constant},~\\text{x},~\\text{Constant},~\\text{Constant},~\\text{Constant},~\\text{x},~\\text{Constant},~\\text{Constant},~\\text{Constant},~\\text{x},~\\text{Constant},~\\text{Constant},~\\text{Constant},~\\text{x},~\\text{Constant},~\\text{Constant},~\\text{Constant},~\\text{x},~\\text{Constant},~\\text{Constant},~\\text{Constant},~\\text{x},~\\text{Constant},~\\text{Constant},~\\text{Constant},~\\text{x},~\\text{Constant},~\\text{Constant},~\\text{Constant},~\\text{x},~\\text{Constant},~\\text{Constant},~\\text{Constant},~\\text{x},~\\text{Constant},~\\text{Constant},~\\text{Constant},~\\text{x},~\\text{Constant},~\\text{Constant},~\\text{Constant},~\\text{x},~\\text{Constant},~\\text{Constant},~\\text{Constant},~\\text{x},~\\text{Constant},~\\text{Constant},~\\text{Constant},~\\text{x},~\\text{Constant},~\\text{Constant},~\\text{Constant},~\\text{x},~\\text{Constant},~\\text{Constant},~\\text{Constant},~\\text{x},~\\text{Constant},~\\text{Constant},~\\text{Constant},~\\text{x},~\\text{Constant},~\\text{Constant},~\\text{Constant},~\\text{x},~\\text{Constant},~\\text{Constant},~\\text{Constant},~\\text{x},~\\text{Constant},~\\text{Constant},~\\text{Constant},~\\text{x},~\\text{Constant},~\\text{Constant},~\\text{Constant},~\\text{x},~\\text{Constant},~\\text{Constant},~\\text{Constant},~\\text{x},~\\text{Constant},~\\text{Constant},~\\text{Constant},~\\text{x},~\\text{Constant},~\\text{Constant},~\\text{Constant},~\\text{x},~\\text{Constant},~\\text{Constant},~\\text{Constant},~\\text{x},~\\text{Constant},~\\text{Constant},~\\text{Constant},~\\text{x},~\\text{Constant},~\\text{Constant},~\\text{Constant},~\\text{x},~\\text{Constant},~\\text{Constant},~\\text{Constant},~\\text{x},~\\text{Constant},~\\text{Constant},~\\text{Constant},~\\text{x},~\\text{Constant},~\\text{Constant},~\\text{Constant},~\\text{x},~\\text{Constant},~\\text{Constant},~\\text{Constant},~\\text{x},~\\text{Constant},~\\text{Constant},~\\text{Constant},~\\text{x},~\\text{Constant},~\\text{Constant},~\\text{Constant},~\\text{x},~\\text{Constant},~\\text{Constant},~\\text{Constant},~\\text{x},~\\text{Constant},~\\text{Constant},~\\text{Constant},~\\text{x},~\\text{Constant},~\\text{Constant},~\\text{Constant},~\\text{x},~\\text{Constant},~\\text{Constant},~\\text{Constant},~\\text{x},~\\text{Constant},~\\text{Constant},~\\text{Constant},~\\text{x},~\\text{Constant},~\\text{Constant},~\\text{Constant},~\\text{x},~\\text{Constant},~\\text{Constant},~\\text{Constant},~\\text{x},~\\text{Constant},~\\text{Constant},~\\text{Constant},~\\text{x},~\\text{Constant},~\\text{Constant},~\\text{Constant},~\\text{x},~\\text{Constant},~\\text{Constant},~\\text{Constant},~\\text{x},~\\text{Constant},~\\text{Constant},~\\text{Constant},~\\text{x},~\\text{Constant},~\\text{Constant},~\\text{Constant},~\\text{x},~\\text{Constant},~\\text{Constant},~\\text{Constant},~\\text{x},~\\text{Constant},~\\text{Constant},~\\text{Constant},~\\text{x},~\\text{Constant},~\\text{Constant},~\\text{Constant},~\\text{x},~\\text{Constant},~\\text{Constant},~\\text{Constant},~\\text{x},~\\text{Constant},~\\text{Constant},~\\text{Constant},~\\text{x},~\\text{Constant},~\\text{Constant},~\\text{Constant},~\\text{x},~\\text{Constant},~\\text{Constant},~\\text{Constant},~\\text{x},~\\text{Constant},~\\text{Constant},~\\text{Constant},~\\text{x},~\\text{Constant},~\\text{Constant},~\\text{Constant},~\\text{x},~\\text{Constant},~\\text{Constant},~\\text{Constant},~\\text{x},~\\text{Constant},~\\text{Constant},~\\text{Constant},~\\text{x},~\\text{Constant},~\\text{Constant},~\\text{Constant},~\\text{x},~\\text{Constant},~\\text{Constant},~\\text{Constant},~\\text{x},~\\text{Constant},~\\text{Constant},~\\text{Constant},~\\text{x},~\\text{Constant},~\\text{Constant},~\\text{Constant},~\\text{x},~\\text{Constant},~\\text{Constant},~\\text{Constant},~\\text{x},~\\text{Constant},~\\text{Constant},~\\text{Constant},~\\text{x},~\\text{Constant},~\\text{Constant},~\\text{Constant},~\\text{x},~\\text{Constant},~\\text{Constant},~\\text{Constant},~\\text{x},~\\text{Constant},~\\text{Constant},~\\text{Constant},~\\text{x},~\\text{Constant},~\\text{Constant},~\\text{Constant},~\\text{x},~\\text{Constant},~\\text{Constant},~\\text{Constant},~\\text{x},~\\text{Constant},~\\text{Constant},~\\text{Constant},~\\text{x},~\\text{Constant},~\\text{Constant},~\\text{Constant},~\\text{x},~\\text{Constant},~\\text{Constant},~\\text{Constant},~\\text{x},~\\text{Constant},~\\text{Constant},~\\text{Constant},~\\text{x},~\\text{Constant},~\\text{Constant},~\\text{Constant},~\\text{x},~\\text{Constant},~\\text{Constant},~\\text{Constant},~\\text{x},~\\text{Constant},~\\text{Constant},~\\text{Constant},~\\text{x},~\\text{Constant},~\\text{Constant},~\\text{Constant},~\\text{x},~\\text{Constant},~\\text{Constant},~\\text{Constant},~\\text{x},~\\text{Constant},~\\text{Constant},~\\text{Constant},~\\text{x},~\\text{Constant},~\\text{Constant},~\\text{Constant},~\\text{x},~\\text{Constant},~\\text{Constant},~\\text{Constant},~\\text{x},~\\text{Constant},~\\text{Constant},~\\text{Constant},~\\text{x},~\\text{Constant},~\\text{Constant},~\\text{Constant},~\\text{x},~\\text{Constant},~\\text{Constant},~\\text{Constant},~\\text{x},~\\text{Constant},~\\text{Constant},~\\text{Constant},~\\text{x},~\\text{Constant},~\\text{Constant},~\\text{Constant},~\\text{x},~\\text{Constant},~\\text{Constant},~\\text{Constant},~\\text{x},~\\text{Constant},~\\text{Constant},~\\text{Constant},~\\text{x},~\\text{Constant},~\\text{Constant},~\\text{Constant},~\\text{x},~\\text{Constant},~\\text{Constant},~\\text{Constant},~\\text{x},~\\text{Constant},~\\text{Constant},~\\text{Constant},~\\text{x},~\\text{Constant},~\\text{Constant},~\\text{Constant},~\\text{x},~\\text{Constant},~\\text{Constant},~\\text{Constant},~\\text{x},~\\text{Constant},~\\text{Constant},~\\text{Constant},~\\text{x},~\\text{Constant},~\\text{Constant},~\\text{Constant},~\\text{x},~\\text{Constant},~\\text{Constant},~\\text{Constant},~\\text{x},~\\text{Constant},~\\text{Constant},~\\text{Constant},~\\text{x},~\\text{Constant},~\\text{Constant},~\\text{Constant},~\\text{x},~\\text{Constant},~\\text{Constant},~\\text{Constant},~\\text{x},~\\text{Constant},~\\text{Constant},~\\text{Constant},~\\text{x},~\\text{Constant},~\\text{Constant},~\\text{Constant},~\\text{x},~\\text{Constant},~\\text{Constant},~\\text{Constant},~\\text{x},~\\text{Constant},~\\text{Constant},~\\text{Constant},~\\text{x},~\\text{Constant},~\\text{Constant},~\\text{Constant},~\\text{x},~\\text{Constant},~\\text{Constant},~\\text{Constant},~\\text{x},~\\text{Constant},~\\text{Constant},~\\text{Constant},~\\text{x},~\\text{Constant},~\\text{Constant},~\\text{Constant},~\\text{x},~\\text{Constant},~\\text{Constant},~\\text{Constant},~\\text{x},~\\text{Constant},~\\text{Constant},~\\text{Constant},~\\text{x},~\\text{Constant},~\\text{Constant},~\\text{Constant},~\\text{x},~\\text{Constant},~\\text{Constant},~\\text{Constant},~\\text{x},~\\text{Constant},~\\text{Constant},~\\text{Constant},~\\text{x},~\\text{Constant},~\\text{Constant},~\\text{Constant},~\\text{x},~\\text{Constant},~\\text{Constant},~\\text{Constant},~\\text{x},~\\text{Constant},~\\text{Constant},~\\text{Constant},~\\text{x},~\\text{Constant},~\\text{Constant},~\\text{Constant},~\\text{x},~\\text{Constant},~\\text{Constant},~\\text{Constant},~\\text{x},~\\text{Constant},~\\text{Constant},~\\text{Constant},~\\text{x},~\\text{Constant},~\\text{Constant},~\\text{Constant},~\\text{x},~\\text{Constant},~\\text{Constant},~\\text{Constant},~\\text{x},~\\text{Constant},~\\text{Constant},~\\text{Constant},~\\text{x},~\\text{Constant},~\\text{Constant},~\\text{Constant},~\\text{x},~\\text{Constant},~\\text{Constant},~\\text{Constant},~\\text{x},~\\text{Constant},~\\text{Constant},~\\text{Constant},~\\text{x},~\\text{Constant},~\\text{Constant},~\\text{Constant},~\\text{x},~\\text{Constant},~\\text{Constant},~\\text{Constant},~\\text{x},~\\text{Constant},~\\text{Constant},~\\text{Constant},~\\text{x},~\\text{Constant},~\\text{Constant},~\\text{Constant},~\\text{x},~\\text{Constant},~\\text{Constant},~\\text{Constant},~\\text{x},~\\text{Constant},~\\text{Constant},~\\text{Constant},~\\text{x},~\\text{Constant},~\\text{Constant},~\\text{Constant},~\\text{x},~\\text{Constant},~\\text{Constant},~\\text{Constant},~\\text{x},~\\text{Constant},~\\text{Constant},~\\text{Constant},~\\text{x},~\\text{Constant},~\\text{Constant},~\\text{Constant},~\\text{x},~\\text{Constant},~\\text{Constant},~\\text{Constant},~\\text{x},~\\text{Constant},~\\text{Constant},~\\text{Constant},~\\text{x},~\\text{Constant},~\\text{Constant},~\\text{Constant},~\\text{x},~\\text{Constant},~\\text{Constant},~\\text{Constant},~\\text{x},~\\text{Constant},~\\text{Constant},~\\text{Constant},~\\text{x},~\\text{Constant},~\\text{Constant},~\\text{Constant},~\\text{x},~\\text{Constant},~\\text{Constant},~\\text{Constant},~\\text{x},~\\text{Constant},~\\text{Constant},~\\text{Constant},~\\text{x},~\\text{Constant},~\\text{Constant},~\\text{Constant},~\\text{x},~\\text{Constant},~\\text{Constant},~\\text{Constant},~\\text{x},~\\text{Constant},~\\text{Constant},~\\text{Constant},~\\text{x},~\\text{Constant},~\\text{Constant},~\\text{Constant},~\\text{x},~\\text{Constant},~\\text{Constant},~\\text{Constant},~\\text{x},~\\text{Constant},~\\text{Constant},~\\text{Constant},~\\text{x},~\\text{Constant},~\\text{Constant},~\\text{Constant},~\\text{x},~\\text{Constant},~\\text{Constant},~\\text{Constant},~\\text{x},~\\text{Constant},~\\text{Constant},~\\text{Constant},~\\text{x},~\\text{Constant},~\\text{Constant},~\\text{Constant},~\\text{x},~\\text{Constant},~\\text{Constant},~\\text{Constant},~\\text{x},~\\text{Constant},~\\text{Constant},~\\text{Constant},~\\text{x},~\\text{Constant},~\\text{Constant},~\\text{Constant},~\\text{x},~\\text{Constant},~\\text{Constant},~\\text{Constant},~\\text{Constant},~\\text{Constant},~\\text{Constant},~\\text{x},~\\text{Constant},~\\text{Constant},~\\text{Constant},~\\text{x},~\\text{Constant},~\\text{Constant},~\\text{Constant},~\\text{x},~\\text{Constant},~\\text{Constant},~\\text{Constant},~\\text{x},~\\text{Constant},~\\text{Constant},~\\text{Constant},~\\text{x},~\\text{Constant},~\\text{Constant},~\\text{Constant},~\\text{x},~\\text{Constant},~\\text{Constant},~\\text{Constant},~\\text{x},~\\text{Constant},~\\text{Constant},~\\text{Constant},~\\text{x},~\\text{Constant},~\\text{Constant},~\\text{Constant},~\\text{x},~\\text{Constant},~\\text{Constant},~\\text{Constant},~\\text{x},~\\text{Constant},~\\text{Constant},~\\text{Constant},~\\text{x},~\\text{Constant},~\\text{Constant},~\\text{Constant},~\\text{x},~\\text{Constant},~\\text{Constant},~\\text{Constant},~\\text{x},~\\text{Constant},~\\text{Constant},~\\text{Constant},~\\text{x},~\\text{Constant},~\\text{Constant},~\\text{Constant},~\\text{x},~\\text{Constant},~\\text{Constant},~\\text{Constant},~\\text{x},~\\text{Constant},~\\text{Constant},~\\text{Constant},~\\text{x},~\\text{Constant},~\\text{Constant},~\\text{Constant},~\\text{x},~\\text{Constant},~\\text{Constant},~\\text{Constant},~\\text{x},~\\text{Constant},~\\text{Constant},~\\text{Constant},~\\text{x},~\\text{Constant},~\\text{Constant},~\\text{Constant},~\\text{x},~\\text{Constant},~\\text{Constant},~\\text{Constant},~\\text{x},~\\text{Constant},~\\text{Constant},~\\text{Constant},~\\text{x},~\\text{Constant},~\\text{Constant},~\\text{Constant},~\\text{x},~\\text{Constant},~\\text{Constant},~\\text{Constant},~\\text{x},~\\text{Constant},~\\text{Constant},~\\text{Constant},~\\text{x},~\\text{Constant},~\\text{Constant},~\\text{Constant},~\\text{x},~\\text{Constant},~\\text{Constant},~\\text{Constant},~\\text{x},~\\text{Constant},~\\text{Constant},~\\text{Constant},~\\text{x},~\\text{Constant},~\\text{Constant},~\\text{Constant},~\\text{x},~\\text{Constant},~\\text{Constant},~\\text{Constant},~\\text{x},~\\text{Constant},~\\text{Constant},~\\text{Constant},~\\text{x},~\\text{Constant},~\\text{Constant},~\\text{Constant},~\\text{x},~\\text{Constant},~\\text{Constant},~\\text{Constant},~\\text{x},~\\text{Constant},~\\text{Constant},~\\text{Constant},~\\text{x},~\\text{Constant},~\\text{Constant},~\\text{Constant},~\\text{x},~\\text{Constant},~\\text{Constant},~\\text{Constant},~\\text{x},~\\text{Constant},~\\text{Constant},~\\text{Constant},~\\text{x},~\\text{Constant},~\\text{Constant},~\\text{Constant},~\\text{x},~\\text{Constant},~\\text{Constant},~\\text{Constant},~\\text{x},~\\text{Constant},~\\text{Constant},~\\text{Constant},~\\text{x},~\\text{Constant},~\\text{Constant},~\\text{Constant},~\\text{x},~\\text{Constant},~\\text{Constant},~\\text{Constant},~\\text{x},~\\text{Constant},~\\text{Constant},~\\text{Constant},~\\text{x},~\\text{Constant},~\\text{Constant},~\\text{Constant},~\\text{x},~\\text{Constant},~\\text{Constant},~\\text{Constant},~\\text{x},~\\text{Constant},~\\text{Constant},~\\text{Constant},~\\text{x},~\\text{Constant},~\\text{Constant},~\\text{Constant},~\\text{x},~\\text{Constant},~\\text{Constant},~\\text{Constant},~\\text{x},~\\text{Constant},~\\text{Constant},~\\text{Constant},~\\text{x},~\\text{Constant},~\\text{Constant},~\\text{Constant},~\\text{x},~\\text{Constant},~\\text{Constant},~\\text{Constant},~\\text{x},~\\text{Constant},~\\text{Constant},~\\text{Constant},~\\text{x},~\\text{Constant},~\\text{Constant},~\\text{Constant},~\\text{x},~\\text{Constant},~\\text{Constant},~\\text{Constant},~\\text{x},~\\text{Constant},~\\text{Constant},~\\text{Constant},~\\text{x},~\\text{Constant},~\\text{Constant},~\\text{Constant},~\\text{x},~\\text{Constant},~\\text{Constant},~\\text{Constant},~\\text{x},~\\text{Constant},~\\text{Constant},~\\text{Constant},~\\text{x},~\\text{Constant},~\\text{Constant},~\\text{Constant},~\\text{x},~\\text{Constant},~\\text{Constant},~\\text{Constant},~\\text{x},~\\text{Constant},~\\text{Constant},~\\text{Constant},~\\text{x},~\\text{Constant},~\\text{Constant},~\\text{Constant},~\\text{x},~\\text{Constant},~\\text{Constant},~\\text{Constant},~\\text{x},~\\text{Constant},~\\text{Constant},~\\text{Constant},~\\text{x},~\\text{Constant},~\\text{Constant},~\\text{Constant},~\\text{x},~\\text{Constant},~\\text{Constant},~\\text{Constant},~\\text{x},~\\text{Constant},~\\text{Constant},~\\text{Constant},~\\text{x},~\\text{Constant},~\\text{Constant},~\\text{Constant},~\\text{x},~\\text{Constant},~\\text{Constant},~\\text{Constant},~\\text{x},~\\text{Constant},~\\text{Constant},~\\text{Constant},~\\text{x},~\\text{Constant},~\\text{Constant},~\\text{Constant},~\\text{x},~\\text{Constant},~\\text{Constant},~\\text{Constant},~\\text{x},~\\text{Constant},~\\text{Constant},~\\text{Constant},~\\text{x},~\\text{Constant},~\\text{Constant},~\\text{Constant},~\\text{x},~\\text{Constant},~\\text{Constant},~\\text{Constant},~\\text{x},~\\text{Constant},~\\text{Constant},~\\text{Constant},~\\text{x},~\\text{Constant},~\\text{Constant},~\\text{Constant},~\\text{x},~\\text{Constant},~\\text{Constant},~\\text{Constant},~\\text{x},~\\text{Constant},~\\text{Constant},~\\text{Constant},~\\text{x},~\\text{Constant},~\\text{Constant},~\\text{Constant},~\\text{x},~\\text{Constant},~\\text{Constant},~\\text{Constant},~\\text{x},~\\text{Constant},~\\text{Constant},~\\text{Constant},~\\text{x},~\\text{Constant},~\\text{Constant},~\\text{Constant},~\\text{x},~\\text{Constant},~\\text{Constant},~\\text{Constant},~\\text{x},~\\text{Constant},~\\text{Constant},~\\text{Constant},~\\text{x},~\\text{Constant},~\\text{Constant},~\\text{Constant},~\\text{x},~\\text{Constant},~\\text{Constant},~\\text{Constant},~\\text{x},~\\text{Constant},~\\text{Constant},~\\text{Constant},~\\text{x},~\\text{Constant},~\\text{Constant},~\\text{Constant},~\\text{x},~\\text{Constant},~\\text{Constant},~\\text{Constant},~\\text{x},~\\text{Constant},~\\text{Constant},~\\text{Constant},~\\text{x},~\\text{Constant},~\\text{Constant},~\\text{Constant},~\\text{x},~\\text{Constant},~\\text{Constant},~\\text{Constant},~\\text{x},~\\text{Constant},~\\text{Constant},~\\text{Constant},~\\text{x},~\\text{Constant},~\\text{Constant},~\\text{Constant},~\\text{x},~\\text{Constant},~\\text{Constant},~\\text{Constant},~\\text{x},~\\text{Constant},~\\text{Constant},~\\text{Constant},~\\text{x},~\\text{Constant},~\\text{Constant},~\\text{Constant},~\\text{x},~\\text{Constant},~\\text{Constant},~\\text{Constant},~\\text{x},~\\text{Constant},~\\text{Constant},~\\text{Constant},~\\text{x},~\\text{Constant},~\\text{Constant},~\\text{Constant},~\\text{x},~\\text{Constant},~\\text{Constant},~\\text{Constant},~\\text{x},~\\text{Constant},~\\text{Constant},~\\text{Constant},~\\text{x},~\\text{Constant},~\\text{Constant},~\\text{Constant},~\\text{x},~\\text{Constant},~\\text{Constant},~\\text{Constant},~\\text{x},~\\text{Constant},~\\text{Constant},~\\text{Constant},~\\text{x},~\\text{Constant},~\\text{Constant},~\\text{Constant},~\\text{x},~\\text{Constant},~\\text{Constant},~\\text{Constant},~\\text{x},~\\text{Constant},~\\text{Constant},~\\text{Constant},~\\text{x},~\\text{Constant},~\\text{Constant},~\\text{Constant},~\\text{x},~\\text{Constant},~\\text{Constant},~\\text{Constant},~\\text{x},~\\text{Constant},~\\text{Constant},~\\text{Constant},~\\text{x},~\\text{Constant},~\\text{Constant},~\\text{Constant},~\\text{x},~\\text{Constant},~\\text{Constant},~\\text{Constant},~\\text{x},~\\text{Constant},~\\text{Constant},~\\text{Constant},~\\text{x},~\\text{Constant},~\\text{Constant},~\\text{Constant},~\\text{x},~\\text{Constant},~\\text{Constant},~\\text{Constant},~\\text{x},~\\text{Constant},~\\text{Constant},~\\text{Constant},~\\text{x},~\\text{Constant},~\\text{Constant},~\\text{Constant},~\\text{x},~\\text{Constant},~\\text{Constant},~\\text{Constant},~\\text{x},~\\text{Constant},~\\text{Constant},~\\text{Constant},~\\text{x},~\\text{Constant},~\\text{Constant},~\\text{Constant},~\\text{x},~\\text{Constant},~\\text{Constant},~\\text{Constant},~\\text{x},~\\text{Constant},~\\text{Constant},~\\text{Constant},~\\text{x},~\\text{Constant},~\\text{Constant},~\\text{Constant},~\\text{x},~\\text{Constant},~\\text{Constant},~\\text{Constant},~\\text{x},~\\text{Constant},~\\text{Constant},~\\text{Constant},~\\text{x},~\\text{Constant},~\\text{Constant},~\\text{Constant},~\\text{x},~\\text{Constant},~\\text{Constant},~\\text{Constant},~\\text{x},~\\text{Constant},~\\text{Constant},~\\text{Constant},~\\text{x},~\\text{Constant},~\\text{Constant},~\\text{Constant},~\\text{x},~\\text{Constant},~\\text{Constant},~\\text{Constant},~\\text{x},~\\text{Constant},~\\text{Constant},~\\text{Constant},~\\text{x},~\\text{Constant},~\\text{Constant},~\\text{Constant},~\\text{x},~\\text{Constant},~\\text{Constant},~\\text{Constant},~\\text{x},~\\text{Constant},~\\text{Constant},~\\text{Constant},~\\text{x},~\\text{Constant},~\\text{Constant},~\\text{Constant},~\\text{x},~\\text{Constant},~\\text{Constant},~\\text{Constant},~\\text{x},~\\text{Constant},~\\text{Constant},~\\text{Constant},~\\text{x},~\\text{Constant},~\\text{Constant},~\\text{Constant},~\\text{x},~\\text{Constant},~\\text{Constant},~\\text{Constant},~\\text{x},~\\text{Constant},~\\text{Constant},~\\text{Constant},~\\text{x},~\\text{Constant},~\\text{Constant},~\\text{Constant},~\\text{x},~\\text{Constant},~\\text{Constant},~\\text{Constant},~\\text{x},~\\text{Constant},~\\text{Constant},~\\text{Constant},~\\text{x},~\\text{Constant},~\\text{Constant},~\\text{Constant},~\\text{x},~\\text{Constant},~\\text{Constant},~\\text{Constant},~\\text{x},~\\text{Constant},~\\text{Constant},~\\text{Constant},~\\text{x},~\\text{Constant},~\\text{Constant},~\\text{Constant},~\\text{x},~\\text{Constant},~\\text{Constant},~\\text{Constant},~\\text{x},~\\text{Constant},~\\text{Constant},~\\text{Constant},~\\text{x},~\\text{Constant},~\\text{Constant},~\\text{Constant},~\\text{x},~\\text{Constant},~\\text{Constant},~\\text{Constant},~\\text{x},~\\text{Constant},~\\text{Constant},~\\text{Constant},~\\text{x},~\\text{Constant},~\\text{Constant},~\\text{Constant},~\\text{x},~\\text{Constant},~\\text{Constant},~\\text{Constant},~\\text{x},~\\text{Constant},~\\text{Constant},~\\text{Constant},~\\text{x},~\\text{Constant},~\\text{Constant},~\\text{Constant},~\\text{x},~\\text{Constant},~\\text{Constant},~\\text{Constant},~\\text{x},~\\text{Constant},~\\text{Constant},~\\text{Constant},~\\text{x},~\\text{Constant},~\\text{Constant},~\\text{Constant},~\\text{x},~\\text{Constant},~\\text{Constant},~\\text{Constant},~\\text{x},~\\text{Constant},~\\text{Constant},~\\text{Constant},~\\text{x},~\\text{Constant},~\\text{Constant},~\\text{Constant},~\\text{x},~\\text{Constant},~\\text{Constant},~\\text{Constant},~\\text{x},~\\text{Constant},~\\text{Constant},~\\text{Constant},~\\text{x},~\\text{Constant},~\\text{Constant},~\\text{Constant},~\\text{x},~\\text{Constant},~\\text{Constant},~\\text{Constant},~\\text{x},~\\text{Constant},~\\text{Constant},~\\text{Constant},~\\text{x},~\\text{Constant},~\\text{Constant},~\\text{Constant},~\\text{x},~\\text{Constant},~\\text{Constant},~\\text{Constant},~\\text{x},~\\text{Constant},~\\text{Constant},~\\text{Constant},~\\text{x},~\\text{Constant},~\\text{Constant},~\\text{Constant},~\\text{x},~\\text{Constant},~\\text{Constant},~\\text{Constant},~\\text{x},~\\text{Constant},~\\text{Constant},~\\text{Constant},~\\text{x},~\\text{Constant},~\\text{Constant},~\\text{Constant},~\\text{x},~\\text{Constant},~\\text{Constant},~\\text{Constant},~\\text{x},~\\text{Constant},~\\text{Constant},~\\text{Constant},~\\text{x},~\\text{Constant},~\\text{Constant},~\\text{Constant},~\\text{x},~\\text{Constant},~\\text{Constant},~\\text{Constant},~\\text{x},~\\text{Constant},~\\text{Constant},~\\text{Constant},~\\text{x},~\\text{Constant},~\\text{Constant},~\\text{Constant},~\\text{x},~\\text{Constant},~\\text{Constant},~\\text{Constant},~\\text{x},~\\text{Constant},~\\text{Constant},~\\text{Constant},~\\text{x},~\\text{Constant},~\\text{Constant},~\\text{Constant},~\\text{x},~\\text{Constant},~\\text{Constant},~\\text{Constant},~\\text{x},~\\text{Constant},~\\text{Constant},~\\text{Constant},~\\text{x},~\\text{Constant},~\\text{Constant},~\\text{Constant},~\\text{x},~\\text{Constant},~\\text{Constant},~\\text{Constant},~\\text{x},~\\text{Constant},~\\text{Constant},~\\text{Constant},~\\text{x},~\\text{Constant},~\\text{Constant},~\\text{Constant},~\\text{x},~\\text{Constant},~\\text{Constant},~\\text{Constant},~\\text{x},~\\text{Constant},~\\text{Constant},~\\text{Constant},~\\text{x},~\\text{Constant},~\\text{Constant},~\\text{Constant},~\\text{x},~\\text{Constant},~\\text{Constant},~\\text{Constant},~\\text{x},~\\text{Constant},~\\text{Constant},~\\text{Constant},~\\text{x},~\\text{Constant},~\\text{Constant},~\\text{Constant},~\\text{x},~\\text{Constant},~\\text{Constant},~\\text{Constant},~\\text{x},~\\text{Constant},~\\text{Constant},~\\text{Constant},~\\text{x},~\\text{Constant},~\\text{Constant},~\\text{Constant},~\\text{x},~\\text{Constant},~\\text{Constant},~\\text{Constant},~\\text{x},~\\text{Constant},~\\text{Constant},~\\text{Constant},~\\text{x},~\\text{Constant},~\\text{Constant},~\\text{Constant},~\\text{x},~\\text{Constant},~\\text{Constant},~\\text{Constant},~\\text{x},~\\text{Constant},~\\text{Constant},~\\text{Constant},~\\text{x},~\\text{Constant},~\\text{Constant},~\\text{Constant},~\\text{x},~\\text{Constant},~\\text{Constant},~\\text{Constant},~\\text{x},~\\text{Constant},~\\text{Constant},~\\text{Constant},~\\text{x},~\\text{Constant},~\\text{Constant},~\\text{Constant},~\\text{x},~\\text{Constant},~\\text{Constant},~\\text{Constant},~\\text{x},~\\text{Constant},~\\text{Constant},~\\text{Constant},~\\text{x},~\\text{Constant},~\\text{Constant},~\\text{Constant},~\\text{x},~\\text{Constant},~\\text{Constant},~\\text{Constant},~\\text{x},~\\text{Constant},~\\text{Constant},~\\text{Constant},~\\text{x},~\\text{Constant},~\\text{Constant},~\\text{Constant},~\\text{x},~\\text{Constant},~\\text{Constant},~\\text{Constant},~\\text{x},~\\text{Constant},~\\text{Constant},~\\text{Constant},~\\text{x},~\\text{Constant},~\\text{Constant},~\\text{Constant},~\\text{x},~\\text{Constant},~\\text{Constant},~\\text{Constant},~\\text{x},~\\text{Constant},~\\text{Constant},~\\text{Constant},~\\text{x},~\\text{Constant},~\\text{Constant},~\\text{Constant},~\\text{x},~\\text{Constant},~\\text{Constant},~\\text{Constant},~\\text{x},~\\text{Constant},~\\text{Constant},~\\text{Constant},~\\text{x},~\\text{Constant},~\\text{Constant},~\\text{Constant},~\\text{x},~\\text{Constant},~\\text{Constant},~\\text{Constant},~\\text{x},~\\text{Constant},~\\text{Constant},~\\text{Constant},~\\text{x},~\\text{Constant},~\\text{Constant},~\\text{Constant},~\\text{x},~\\text{Constant},~\\text{Constant},~\\text{Constant},~\\text{x},~\\text{Constant},~\\text{Constant},~\\text{Constant},~\\text{x},~\\text{Constant},~\\text{Constant},~\\text{Constant},~\\text{x},~\\text{Constant},~\\text{Constant},~\\text{Constant},~\\text{x},~\\text{Constant},~\\text{Constant},~\\text{Constant},~\\text{x},~\\text{Constant},~\\text{Constant},~\\text{Constant},~\\text{x},~\\text{Constant},~\\text{Constant},~\\text{Constant},~\\text{x},~\\text{Constant},~\\text{Constant},~\\text{Constant},~\\text{x},~\\text{Constant},~\\text{Constant},~\\text{Constant},~\\text{x},~\\text{Constant},~\\text{Constant},~\\text{Constant},~\\text{x},~\\text{Constant},~\\text{Constant},~\\text{Constant},~\\text{x},~\\text{Constant},~\\text{Constant},~\\text{Constant},~\\text{x},~\\text{Constant},~\\text{Constant},~\\text{Constant},~\\text{Constant},~\\text{Constant})\\\\\\text{y} &\\sim & \\text{Normal}(\\mathit{mu}=\\text{y_mean},~\\mathit{sigma}=f(f()))\n            \\end{array}\n            $$",
            "text/plain": [
              "<pymc3.model.Model at 0x7fe1ce32dc10>"
            ]
          },
          "metadata": {
            "tags": []
          },
          "execution_count": 8
        }
      ]
    },
    {
      "cell_type": "code",
      "metadata": {
        "id": "7lDATrA6VeKL",
        "colab": {
          "base_uri": "https://localhost:8080/"
        },
        "outputId": "faed203a-c5fd-4694-c899-3c005dd5cc70"
      },
      "source": [
        "with model_A:\n",
        "    mcmc_res_A = pm.sample(draws =5000, step=pm.NUTS(target_accept=0.99))"
      ],
      "execution_count": 9,
      "outputs": [
        {
          "output_type": "stream",
          "text": [
            "Sequential sampling (2 chains in 1 job)\n",
            "NUTS: [x]\n",
            "100%|██████████| 5500/5500 [00:21<00:00, 251.45it/s]\n",
            "100%|██████████| 5500/5500 [00:18<00:00, 292.08it/s]\n",
            "There were 3 divergences after tuning. Increase `target_accept` or reparameterize.\n",
            "The number of effective samples is smaller than 25% for some parameters.\n"
          ],
          "name": "stderr"
        }
      ]
    },
    {
      "cell_type": "code",
      "metadata": {
        "id": "AsIprJfl2v5P"
      },
      "source": [
        "import warnings\n",
        "warnings.filterwarnings(\"ignore\")\n",
        "fig = {'figsize':(12, 4)}\n",
        "#pm.traceplot(mcmc_res_A)   "
      ],
      "execution_count": 13,
      "outputs": []
    },
    {
      "cell_type": "code",
      "metadata": {
        "id": "eckctzII6CV0"
      },
      "source": [
        "_=pm.plot_autocorr(mcmc_res_A,var_names=['x'], combined=True)"
      ],
      "execution_count": null,
      "outputs": []
    },
    {
      "cell_type": "code",
      "metadata": {
        "id": "bL5uxwcd6LQG"
      },
      "source": [
        "mcmc_res_A_thin = mcmc_res_A[100::20]"
      ],
      "execution_count": 14,
      "outputs": []
    },
    {
      "cell_type": "code",
      "metadata": {
        "id": "xdAFO88C6Qqw",
        "colab": {
          "base_uri": "https://localhost:8080/",
          "height": 313
        },
        "outputId": "c28bf799-a896-40b9-fc63-f7f62e1ff233"
      },
      "source": [
        "_=pm.plot_autocorr(mcmc_res_A_thin,var_names=['x'], combined=True)"
      ],
      "execution_count": null,
      "outputs": [
        {
          "output_type": "display_data",
          "data": {
            "image/png": "[encoded data removed]",
            "text/plain": [
              "<Figure size 432x288 with 1 Axes>"
            ]
          },
          "metadata": {
            "tags": [],
            "needs_background": "light"
          }
        }
      ]
    },
    {
      "cell_type": "code",
      "metadata": {
        "id": "IXlc0AVi6hAG",
        "colab": {
          "base_uri": "https://localhost:8080/",
          "height": 35
        },
        "outputId": "1ae6371b-3e24-46ce-a7ee-c9f7331f9dc7"
      },
      "source": [
        "ppsamples_A = pm.sample_posterior_predictive(samples=100,\\\n",
        "                                           model=model_A, \n",
        "                                           trace=mcmc_res_A_thin)['y']"
      ],
      "execution_count": null,
      "outputs": [
        {
          "output_type": "stream",
          "text": [
            "100%|██████████| 100/100 [00:12<00:00,  7.70it/s]\n"
          ],
          "name": "stderr"
        }
      ]
    },
    {
      "cell_type": "code",
      "metadata": {
        "id": "MnA3MZxnoAF-",
        "colab": {
          "base_uri": "https://localhost:8080/",
          "height": 35
        },
        "outputId": "64851656-695c-4c49-8f82-cc07ac0a3385"
      },
      "source": [
        "post_sample_A=pm.sample_posterior_predictive(samples=100,model=model_A,trace=mcmc_res_A_thin)\n",
        "print(post_['x'])"
      ],
      "execution_count": null,
      "outputs": [
        {
          "output_type": "stream",
          "text": [
            "100%|██████████| 100/100 [00:14<00:00,  6.97it/s]\n"
          ],
          "name": "stderr"
        }
      ]
    },
    {
      "cell_type": "code",
      "metadata": {
        "id": "2cRhrzXY6c9j",
        "colab": {
          "base_uri": "https://localhost:8080/",
          "height": 173
        },
        "outputId": "38318812-4d5e-4643-eee4-74ffcaa91ae6"
      },
      "source": [
        "post_sample=pm.sampling.sample(model=model_A)"
      ],
      "execution_count": null,
      "outputs": [
        {
          "output_type": "stream",
          "text": [
            "Auto-assigning NUTS sampler...\n",
            "Initializing NUTS using jitter+adapt_diag...\n",
            "Sequential sampling (2 chains in 1 job)\n",
            "NUTS: [x]\n",
            "Sampling chain 0, 30 divergences: 100%|██████████| 1000/1000 [00:09<00:00, 103.35it/s]\n",
            "Sampling chain 1, 107 divergences: 100%|██████████| 1000/1000 [00:06<00:00, 150.12it/s]\n",
            "There were 30 divergences after tuning. Increase `target_accept` or reparameterize.\n",
            "There were 137 divergences after tuning. Increase `target_accept` or reparameterize.\n",
            "The number of effective samples is smaller than 25% for some parameters.\n"
          ],
          "name": "stderr"
        }
      ]
    },
    {
      "cell_type": "code",
      "metadata": {
        "id": "mZfJjCuzASzC"
      },
      "source": [
        "print(post_sample[:]['x'])"
      ],
      "execution_count": null,
      "outputs": []
    },
    {
      "cell_type": "code",
      "metadata": {
        "id": "ZYktQfI_7lmV",
        "colab": {
          "base_uri": "https://localhost:8080/",
          "height": 17
        },
        "outputId": "260c2e1b-408d-4be3-ffd0-415b62d0fb22"
      },
      "source": [
        "np.savetxt('20datapoints.txt',post_sample[:]['x'])\n",
        "files.download('20datapoints.txt')"
      ],
      "execution_count": null,
      "outputs": [
        {
          "output_type": "display_data",
          "data": {
            "application/javascript": [
              "\n",
              "    async function download(id, filename, size) {\n",
              "      if (!google.colab.kernel.accessAllowed) {\n",
              "        return;\n",
              "      }\n",
              "      const div = document.createElement('div');\n",
              "      const label = document.createElement('label');\n",
              "      label.textContent = `Downloading \"${filename}\": `;\n",
              "      div.appendChild(label);\n",
              "      const progress = document.createElement('progress');\n",
              "      progress.max = size;\n",
              "      div.appendChild(progress);\n",
              "      document.body.appendChild(div);\n",
              "\n",
              "      const buffers = [];\n",
              "      let downloaded = 0;\n",
              "\n",
              "      const channel = await google.colab.kernel.comms.open(id);\n",
              "      // Send a message to notify the kernel that we're ready.\n",
              "      channel.send({})\n",
              "\n",
              "      for await (const message of channel.messages) {\n",
              "        // Send a message to notify the kernel that we're ready.\n",
              "        channel.send({})\n",
              "        if (message.buffers) {\n",
              "          for (const buffer of message.buffers) {\n",
              "            buffers.push(buffer);\n",
              "            downloaded += buffer.byteLength;\n",
              "            progress.value = downloaded;\n",
              "          }\n",
              "        }\n",
              "      }\n",
              "      const blob = new Blob(buffers, {type: 'application/binary'});\n",
              "      const a = document.createElement('a');\n",
              "      a.href = window.URL.createObjectURL(blob);\n",
              "      a.download = filename;\n",
              "      div.appendChild(a);\n",
              "      a.click();\n",
              "      div.remove();\n",
              "    }\n",
              "  "
            ],
            "text/plain": [
              "<IPython.core.display.Javascript object>"
            ]
          },
          "metadata": {
            "tags": []
          }
        },
        {
          "output_type": "display_data",
          "data": {
            "application/javascript": [
              "download(\"download_b7884811-3301-4b18-8d09-2f790855e0ce\", \"20datapoints.txt\", 25575)"
            ],
            "text/plain": [
              "<IPython.core.display.Javascript object>"
            ]
          },
          "metadata": {
            "tags": []
          }
        }
      ]
    },
    {
      "cell_type": "markdown",
      "metadata": {
        "id": "o-pEAXoHAKuz"
      },
      "source": [
        "## Model 2\n",
        "Error with InverseGamma Distrubution"
      ]
    },
    {
      "cell_type": "code",
      "metadata": {
        "id": "K5HigBwKgD23"
      },
      "source": [
        "model_C = pm.Model()\n",
        "alpha1 =3.\n",
        "beta1 = 0.05\n",
        "alpha2 = 1.0\n",
        "# define the distribution \n",
        "with model_C:\n",
        "    sigma2s = pm.InverseGamma('sigma2s',alpha=alpha1,beta=beta1,shape=1)\n",
        "    sigma2 = pm.Deterministic('sigma2',tt.tile(sigma2s,5))\n",
        "    gamma2 = pm.Exponential(name='gamma2',lam=alpha2)\n",
        "    x = pm.Normal(name='x',mu =0,sigma=tt.sqrt(gamma2),shape=1)\n",
        "    y_mean = pm.Deterministic('y_mean', Solver(x))\n",
        "    y = pm.Normal(name='y',mu=y_mean,sigma=tt.sqrt(sigma2),observed=th_g_data)"
      ],
      "execution_count": 16,
      "outputs": []
    },
    {
      "cell_type": "code",
      "metadata": {
        "id": "bys4gaO0XYYG",
        "colab": {
          "base_uri": "https://localhost:8080/"
        },
        "outputId": "f689deb4-da82-4cb1-8095-70eb2ac82fb3"
      },
      "source": [
        "# generate samples from x \n",
        "with model_C:\n",
        "    mcmc_res_C = pm.sample(draws = 1500, step=pm.NUTS())"
      ],
      "execution_count": 17,
      "outputs": [
        {
          "output_type": "stream",
          "text": [
            "Sequential sampling (2 chains in 1 job)\n",
            "NUTS: [x, gamma2, sigma2s]\n",
            "100%|██████████| 2000/2000 [00:11<00:00, 177.67it/s]\n",
            "100%|██████████| 2000/2000 [00:10<00:00, 195.35it/s]\n",
            "There were 56 divergences after tuning. Increase `target_accept` or reparameterize.\n",
            "There were 96 divergences after tuning. Increase `target_accept` or reparameterize.\n"
          ],
          "name": "stderr"
        }
      ]
    },
    {
      "cell_type": "code",
      "metadata": {
        "id": "It09gf-iXZPC"
      },
      "source": [
        "mcmc_res_C_thin = mcmc_res_C[50::10]"
      ],
      "execution_count": 18,
      "outputs": []
    },
    {
      "cell_type": "code",
      "metadata": {
        "colab": {
          "base_uri": "https://localhost:8080/"
        },
        "id": "XZQS-SoC-ni8",
        "outputId": "017507d0-b4eb-48d9-e3c7-ce89cd04e9a4"
      },
      "source": [
        "ppsamples_C = pm.sample_posterior_predictive(samples=100,\\\n",
        "                                           model=model_C, \n",
        "                                           trace=mcmc_res_C_thin)['y']"
      ],
      "execution_count": 19,
      "outputs": [
        {
          "output_type": "stream",
          "text": [
            "100%|██████████| 100/100 [00:13<00:00,  7.24it/s]\n"
          ],
          "name": "stderr"
        }
      ]
    },
    {
      "cell_type": "code",
      "metadata": {
        "colab": {
          "base_uri": "https://localhost:8080/"
        },
        "id": "gCcOoHjH_IE8",
        "outputId": "8ef8a01c-f7af-450d-dfec-6cf29c45093b"
      },
      "source": [
        "post_sample=pm.sampling.sample(model=model_C)"
      ],
      "execution_count": 20,
      "outputs": [
        {
          "output_type": "stream",
          "text": [
            "Auto-assigning NUTS sampler...\n",
            "Initializing NUTS using jitter+adapt_diag...\n",
            "Sequential sampling (2 chains in 1 job)\n",
            "NUTS: [x, gamma2, sigma2s]\n",
            "100%|██████████| 1000/1000 [00:08<00:00, 112.87it/s]\n",
            "100%|██████████| 1000/1000 [00:10<00:00, 99.91it/s]\n",
            "There were 28 divergences after tuning. Increase `target_accept` or reparameterize.\n",
            "There were 69 divergences after tuning. Increase `target_accept` or reparameterize.\n"
          ],
          "name": "stderr"
        }
      ]
    },
    {
      "cell_type": "code",
      "metadata": {
        "id": "51kVNKCf_Oot"
      },
      "source": [
        "print(post_sample[:]['x'])"
      ],
      "execution_count": null,
      "outputs": []
    },
    {
      "cell_type": "code",
      "metadata": {
        "id": "inO1JF06_sJz"
      },
      "source": [
        ""
      ],
      "execution_count": null,
      "outputs": []
    }
  ]
}